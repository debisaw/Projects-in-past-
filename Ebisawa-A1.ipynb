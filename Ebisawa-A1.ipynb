{
 "cells": [
  {
   "cell_type": "markdown",
   "metadata": {
    "id": "74CYjG2JvCQP"
   },
   "source": [
    "# CMSC478 Machine Learning - Fall 2021\n",
    "\n",
    "## Instructor: Fereydoon Vafaei\n",
    "\n",
    "### <font color=\"blue\">Assignment-1: Binary Classification with Imbalanced Dataset - Stroke Prediction</font>"
   ]
  },
  {
   "cell_type": "markdown",
   "metadata": {
    "id": "NVZyuD4JvCQS"
   },
   "source": [
    "Dan Ebisawa cu30773"
   ]
  },
  {
   "cell_type": "markdown",
   "metadata": {
    "id": "qc_eGGIkvCQT"
   },
   "source": [
    "## Overview, Policies, and Learning Objectives"
   ]
  },
  {
   "cell_type": "markdown",
   "metadata": {
    "id": "aiSZH-6TvCQU"
   },
   "source": [
    "So far, you've learned very important fundamental concepts in Machine Learning such as supervised learning (e.g. classification and regression) vs unsupervised learning (e.g. clustering), overfitting, model evaluation, and performance measures (accuracy, precision, recall, AUC, MSE, etc.). You've learned that two of the most common approaches in supervised learning are regression and classification. In this assignment, you are going to practice what you've learned so far by building ML models and applying them on data.\n",
    "\n",
    "The ML task in this assignment is binary classification, stroke prediction, based on multiple features such as presence of heart disease, hypertension, BMI, etc. \n",
    "\n",
    "<b>Very Important Note:</b> Read ALL the instructions in this notebook very carefully. **Wherever the documentation link is provided, click on the links and read the documentation!** Careless reading and skipping instructions are major sources of making mistakes and losing points in your assignments. Also note that this assignment has three parts and includes multiple steps and questions. You're strongly recommended to get started early and plan to finish well before the due date. Technical problems or other issues/questions on the due date or just a day before would NOT be accepted as an excuse for extension."
   ]
  },
  {
   "cell_type": "markdown",
   "metadata": {
    "id": "pFVQj7RbvCQU"
   },
   "source": [
    "<b>Course Policy Reminder</b>\n",
    "Debugging the codes and error resolution are ALWAYS the students' responsbility regardless of the source or the cause of the error. This policy will be enforced in email communications and the office hours. Keep in mind that all assignments are individual graded tasks. Any collaboration with other students is strictly prohibited and is considered as cheating. Students should NOT share any answer, solution, or code with other students. Violations of these policies would be penalized according to UMBC academic integrity policy.\n",
    "\n",
    "**You must run ALL cells** and get the correct outputs for all cells and give complete answers to all questions. **Cells/codes with no output get zero!**\n",
    "\n",
    "Follow the instructions for each step very carefully.\n",
    "\n",
    "Wherever needed, you should replace `...` elipsis with your code.\n",
    "\n",
    "`...` may indicate one or more lines of missing codes. Some outputs are provided to you to use as reference and to verify that your output is correct.\n",
    "\n",
    "**Preprocessing Effect on Grade**: Preprocessing steps are so critical in each part and you should pay special attention to make sure that you do all preprocessing steps correctly. That is why the reference outputs have been provided in preprocessing steps. Your notebook would become ineligible for grading implementation parts if you have wrong results/outputs of preprocessing, so be extremely careful with all preprocessing steps. "
   ]
  },
  {
   "cell_type": "markdown",
   "metadata": {
    "id": "mADoYHr7vCQV"
   },
   "source": [
    "Pedagogically, this assignment will help you:\n",
    "- better understand the concepts you learned and how to use ML methods in practice. \n",
    "- learn how to work with ML libraries: Scikit-learn and XGBoost\n",
    "- practice reading documentation. This is a very important skill in ML/Data Science collaborative environments and teams."
   ]
  },
  {
   "cell_type": "markdown",
   "metadata": {
    "id": "StLGNW4tvCQV"
   },
   "source": [
    "## Installing XGBoost"
   ]
  },
  {
   "cell_type": "markdown",
   "metadata": {
    "id": "tQgH2HdBvCQW"
   },
   "source": [
    "You should install [XGBoost](https://xgboost.readthedocs.io/en/latest/install.html) for this assignment. Read the Installation Guide and follow the instructions. Running `pip install xgboost` command in the Anaconda command prompt should work for most platforms but **you are responsible for proper installation and resolving any issues that may arise in the installation process**. XGBoost is an efficient algorithm from the category of ensemble methods, i.e. a collection of predictors that work collaboratively to make predictions. You'll learn about ensemble methods more in the upcoming contents of this course."
   ]
  },
  {
   "cell_type": "markdown",
   "metadata": {
    "id": "_71OiCzgvCQW"
   },
   "source": [
    "## Import Cell"
   ]
  },
  {
   "cell_type": "markdown",
   "metadata": {
    "id": "mz9vLMqnvCQX"
   },
   "source": [
    "Import all necessary python, sklearn and xgboost modules in the following cell. **You definitely need to add to the imports as you work on the assignment.** When you import a new module, add it here in the same cell. All imports should be in this import cell."
   ]
  },
  {
   "cell_type": "code",
   "execution_count": 251,
   "metadata": {
    "id": "bXkXXjZhvCQX"
   },
   "outputs": [],
   "source": [
    "# Import necessary modules\n",
    "import sys\n",
    "import sklearn \n",
    "import xgboost\n",
    "import pandas as pd \n",
    "import numpy as np\n",
    "import matplotlib.pyplot as plt\n",
    "from sklearn import preprocessing\n",
    "from sklearn.ensemble import RandomForestClassifier\n",
    "from sklearn.metrics import confusion_matrix \n",
    "from sklearn import metrics\n",
    "from sklearn.metrics import balanced_accuracy_score\n",
    "from sklearn.metrics import classification_report\n",
    "import xgboost\n",
    "from sklearn.metrics import precision_score\n",
    "from sklearn.metrics import recall_score\n",
    "from sklearn.model_selection import GridSearchCV\n",
    "from sklearn.metrics import roc_auc_score"
   ]
  },
  {
   "cell_type": "markdown",
   "metadata": {
    "id": "LwOx-dxovCQZ"
   },
   "source": [
    "## Part-I - Preprocessing"
   ]
  },
  {
   "cell_type": "markdown",
   "metadata": {
    "id": "FwBYMCYvvCQa"
   },
   "source": [
    "Download the [Stroke Prediction Dataset](https://www.kaggle.com/fedesoriano/stroke-prediction-dataset). Read the feature specifications in Kaggle page to learn more about the data. The target label is `stroke` which has two labels {0,1} representing: 1 if the patient had a stroke or 0 if not."
   ]
  },
  {
   "cell_type": "markdown",
   "metadata": {
    "id": "39S5Qq29vCQa"
   },
   "source": [
    "According to the World Health Organization (WHO) stroke is the 2nd leading cause of death globally, responsible for approximately 11% of total deaths.\n",
    "\n",
    "This dataset is used to predict whether a patient is likely to get stroke based on the input parameters like gender, age, various diseases, and smoking status. Each row in the data provides relavant information about the patient."
   ]
  },
  {
   "cell_type": "markdown",
   "metadata": {
    "id": "BBn3VnCyvCQa"
   },
   "source": [
    "You should save and extract the dataset `healthcare-dataset-stroke-data.csv` in the same working directory as your notebook. Next, you should load the data using `pandas`. Read pandas documentation to learn more about it [here](https://pandas.pydata.org/docs/user_guide/10min.html#min)"
   ]
  },
  {
   "cell_type": "markdown",
   "metadata": {
    "id": "XDPVqlInvCQb"
   },
   "source": [
    "> Load the `healthcare-dataset-stroke-data.csv` dataset using pandas [`read_csv()`](https://pandas.pydata.org/pandas-docs/stable/reference/api/pandas.read_csv.html) method."
   ]
  },
  {
   "cell_type": "code",
   "execution_count": 110,
   "metadata": {
    "id": "5Zoq7g7zvCQb",
    "outputId": "58edef7b-4f45-494a-e9b6-9cf4c6f71581"
   },
   "outputs": [
    {
     "name": "stdout",
     "output_type": "stream",
     "text": [
      "(5110, 12)\n"
     ]
    },
    {
     "data": {
      "text/html": [
       "<div>\n",
       "<style scoped>\n",
       "    .dataframe tbody tr th:only-of-type {\n",
       "        vertical-align: middle;\n",
       "    }\n",
       "\n",
       "    .dataframe tbody tr th {\n",
       "        vertical-align: top;\n",
       "    }\n",
       "\n",
       "    .dataframe thead th {\n",
       "        text-align: right;\n",
       "    }\n",
       "</style>\n",
       "<table border=\"1\" class=\"dataframe\">\n",
       "  <thead>\n",
       "    <tr style=\"text-align: right;\">\n",
       "      <th></th>\n",
       "      <th>id</th>\n",
       "      <th>gender</th>\n",
       "      <th>age</th>\n",
       "      <th>hypertension</th>\n",
       "      <th>heart_disease</th>\n",
       "      <th>ever_married</th>\n",
       "      <th>work_type</th>\n",
       "      <th>Residence_type</th>\n",
       "      <th>avg_glucose_level</th>\n",
       "      <th>bmi</th>\n",
       "      <th>smoking_status</th>\n",
       "      <th>stroke</th>\n",
       "    </tr>\n",
       "  </thead>\n",
       "  <tbody>\n",
       "    <tr>\n",
       "      <th>0</th>\n",
       "      <td>9046</td>\n",
       "      <td>Male</td>\n",
       "      <td>67.0</td>\n",
       "      <td>0</td>\n",
       "      <td>1</td>\n",
       "      <td>Yes</td>\n",
       "      <td>Private</td>\n",
       "      <td>Urban</td>\n",
       "      <td>228.69</td>\n",
       "      <td>36.6</td>\n",
       "      <td>formerly smoked</td>\n",
       "      <td>1</td>\n",
       "    </tr>\n",
       "    <tr>\n",
       "      <th>1</th>\n",
       "      <td>51676</td>\n",
       "      <td>Female</td>\n",
       "      <td>61.0</td>\n",
       "      <td>0</td>\n",
       "      <td>0</td>\n",
       "      <td>Yes</td>\n",
       "      <td>Self-employed</td>\n",
       "      <td>Rural</td>\n",
       "      <td>202.21</td>\n",
       "      <td>NaN</td>\n",
       "      <td>never smoked</td>\n",
       "      <td>1</td>\n",
       "    </tr>\n",
       "    <tr>\n",
       "      <th>2</th>\n",
       "      <td>31112</td>\n",
       "      <td>Male</td>\n",
       "      <td>80.0</td>\n",
       "      <td>0</td>\n",
       "      <td>1</td>\n",
       "      <td>Yes</td>\n",
       "      <td>Private</td>\n",
       "      <td>Rural</td>\n",
       "      <td>105.92</td>\n",
       "      <td>32.5</td>\n",
       "      <td>never smoked</td>\n",
       "      <td>1</td>\n",
       "    </tr>\n",
       "    <tr>\n",
       "      <th>3</th>\n",
       "      <td>60182</td>\n",
       "      <td>Female</td>\n",
       "      <td>49.0</td>\n",
       "      <td>0</td>\n",
       "      <td>0</td>\n",
       "      <td>Yes</td>\n",
       "      <td>Private</td>\n",
       "      <td>Urban</td>\n",
       "      <td>171.23</td>\n",
       "      <td>34.4</td>\n",
       "      <td>smokes</td>\n",
       "      <td>1</td>\n",
       "    </tr>\n",
       "    <tr>\n",
       "      <th>4</th>\n",
       "      <td>1665</td>\n",
       "      <td>Female</td>\n",
       "      <td>79.0</td>\n",
       "      <td>1</td>\n",
       "      <td>0</td>\n",
       "      <td>Yes</td>\n",
       "      <td>Self-employed</td>\n",
       "      <td>Rural</td>\n",
       "      <td>174.12</td>\n",
       "      <td>24.0</td>\n",
       "      <td>never smoked</td>\n",
       "      <td>1</td>\n",
       "    </tr>\n",
       "  </tbody>\n",
       "</table>\n",
       "</div>"
      ],
      "text/plain": [
       "      id  gender   age  hypertension  heart_disease ever_married  \\\n",
       "0   9046    Male  67.0             0              1          Yes   \n",
       "1  51676  Female  61.0             0              0          Yes   \n",
       "2  31112    Male  80.0             0              1          Yes   \n",
       "3  60182  Female  49.0             0              0          Yes   \n",
       "4   1665  Female  79.0             1              0          Yes   \n",
       "\n",
       "       work_type Residence_type  avg_glucose_level   bmi   smoking_status  \\\n",
       "0        Private          Urban             228.69  36.6  formerly smoked   \n",
       "1  Self-employed          Rural             202.21   NaN     never smoked   \n",
       "2        Private          Rural             105.92  32.5     never smoked   \n",
       "3        Private          Urban             171.23  34.4           smokes   \n",
       "4  Self-employed          Rural             174.12  24.0     never smoked   \n",
       "\n",
       "   stroke  \n",
       "0       1  \n",
       "1       1  \n",
       "2       1  \n",
       "3       1  \n",
       "4       1  "
      ]
     },
     "execution_count": 110,
     "metadata": {},
     "output_type": "execute_result"
    }
   ],
   "source": [
    "# Load the data\n",
    "data = pd.read_csv(\"healthcare-dataset-stroke-data.csv\")\n",
    "\n",
    "\n",
    "# Print data shape\n",
    "print(data.shape)\n",
    "# Show the first five rows\n",
    "data.head(5)"
   ]
  },
  {
   "cell_type": "markdown",
   "metadata": {
    "id": "dUbuPlXVvCQc"
   },
   "source": [
    "> Let's see what the type of `data` is."
   ]
  },
  {
   "cell_type": "code",
   "execution_count": 94,
   "metadata": {
    "id": "ducignm_vCQd",
    "outputId": "a96e2b06-862b-4c31-a280-8ad8f0fa945a"
   },
   "outputs": [
    {
     "data": {
      "text/plain": [
       "pandas.core.frame.DataFrame"
      ]
     },
     "execution_count": 94,
     "metadata": {},
     "output_type": "execute_result"
    }
   ],
   "source": [
    "type(data)"
   ]
  },
  {
   "cell_type": "markdown",
   "metadata": {
    "id": "7uXZFoXjvCQd"
   },
   "source": [
    "[`DataFrame`](https://pandas.pydata.org/pandas-docs/stable/reference/api/pandas.DataFrame.html) is a data structure that contains datasets in pandas. Since this is a binary classification (supervised learning) ML model, you have both the features and the labels for training and testing, and everything has been stored in `data` DataFrame. "
   ]
  },
  {
   "cell_type": "markdown",
   "metadata": {
    "id": "PgalOs9SvCQd"
   },
   "source": [
    "> `id` column does not provide any useful information for classification, so drop it."
   ]
  },
  {
   "cell_type": "code",
   "execution_count": 95,
   "metadata": {
    "id": "RjQgr3AlvCQd",
    "outputId": "f7b54770-0a10-4310-baa0-3e7634bf8769"
   },
   "outputs": [
    {
     "name": "stdout",
     "output_type": "stream",
     "text": [
      "(5110, 11)\n"
     ]
    },
    {
     "data": {
      "text/html": [
       "<div>\n",
       "<style scoped>\n",
       "    .dataframe tbody tr th:only-of-type {\n",
       "        vertical-align: middle;\n",
       "    }\n",
       "\n",
       "    .dataframe tbody tr th {\n",
       "        vertical-align: top;\n",
       "    }\n",
       "\n",
       "    .dataframe thead th {\n",
       "        text-align: right;\n",
       "    }\n",
       "</style>\n",
       "<table border=\"1\" class=\"dataframe\">\n",
       "  <thead>\n",
       "    <tr style=\"text-align: right;\">\n",
       "      <th></th>\n",
       "      <th>gender</th>\n",
       "      <th>age</th>\n",
       "      <th>hypertension</th>\n",
       "      <th>heart_disease</th>\n",
       "      <th>ever_married</th>\n",
       "      <th>work_type</th>\n",
       "      <th>Residence_type</th>\n",
       "      <th>avg_glucose_level</th>\n",
       "      <th>bmi</th>\n",
       "      <th>smoking_status</th>\n",
       "      <th>stroke</th>\n",
       "    </tr>\n",
       "  </thead>\n",
       "  <tbody>\n",
       "    <tr>\n",
       "      <th>0</th>\n",
       "      <td>Male</td>\n",
       "      <td>67.0</td>\n",
       "      <td>0</td>\n",
       "      <td>1</td>\n",
       "      <td>Yes</td>\n",
       "      <td>Private</td>\n",
       "      <td>Urban</td>\n",
       "      <td>228.69</td>\n",
       "      <td>36.6</td>\n",
       "      <td>formerly smoked</td>\n",
       "      <td>1</td>\n",
       "    </tr>\n",
       "    <tr>\n",
       "      <th>1</th>\n",
       "      <td>Female</td>\n",
       "      <td>61.0</td>\n",
       "      <td>0</td>\n",
       "      <td>0</td>\n",
       "      <td>Yes</td>\n",
       "      <td>Self-employed</td>\n",
       "      <td>Rural</td>\n",
       "      <td>202.21</td>\n",
       "      <td>NaN</td>\n",
       "      <td>never smoked</td>\n",
       "      <td>1</td>\n",
       "    </tr>\n",
       "    <tr>\n",
       "      <th>2</th>\n",
       "      <td>Male</td>\n",
       "      <td>80.0</td>\n",
       "      <td>0</td>\n",
       "      <td>1</td>\n",
       "      <td>Yes</td>\n",
       "      <td>Private</td>\n",
       "      <td>Rural</td>\n",
       "      <td>105.92</td>\n",
       "      <td>32.5</td>\n",
       "      <td>never smoked</td>\n",
       "      <td>1</td>\n",
       "    </tr>\n",
       "    <tr>\n",
       "      <th>3</th>\n",
       "      <td>Female</td>\n",
       "      <td>49.0</td>\n",
       "      <td>0</td>\n",
       "      <td>0</td>\n",
       "      <td>Yes</td>\n",
       "      <td>Private</td>\n",
       "      <td>Urban</td>\n",
       "      <td>171.23</td>\n",
       "      <td>34.4</td>\n",
       "      <td>smokes</td>\n",
       "      <td>1</td>\n",
       "    </tr>\n",
       "    <tr>\n",
       "      <th>4</th>\n",
       "      <td>Female</td>\n",
       "      <td>79.0</td>\n",
       "      <td>1</td>\n",
       "      <td>0</td>\n",
       "      <td>Yes</td>\n",
       "      <td>Self-employed</td>\n",
       "      <td>Rural</td>\n",
       "      <td>174.12</td>\n",
       "      <td>24.0</td>\n",
       "      <td>never smoked</td>\n",
       "      <td>1</td>\n",
       "    </tr>\n",
       "  </tbody>\n",
       "</table>\n",
       "</div>"
      ],
      "text/plain": [
       "   gender   age  hypertension  heart_disease ever_married      work_type  \\\n",
       "0    Male  67.0             0              1          Yes        Private   \n",
       "1  Female  61.0             0              0          Yes  Self-employed   \n",
       "2    Male  80.0             0              1          Yes        Private   \n",
       "3  Female  49.0             0              0          Yes        Private   \n",
       "4  Female  79.0             1              0          Yes  Self-employed   \n",
       "\n",
       "  Residence_type  avg_glucose_level   bmi   smoking_status  stroke  \n",
       "0          Urban             228.69  36.6  formerly smoked       1  \n",
       "1          Rural             202.21   NaN     never smoked       1  \n",
       "2          Rural             105.92  32.5     never smoked       1  \n",
       "3          Urban             171.23  34.4           smokes       1  \n",
       "4          Rural             174.12  24.0     never smoked       1  "
      ]
     },
     "execution_count": 95,
     "metadata": {},
     "output_type": "execute_result"
    }
   ],
   "source": [
    "# Drop id column\n",
    "data= data.drop(columns=['id'])\n",
    "\n",
    "# Print data shape\n",
    "print(data.shape)\n",
    "\n",
    "# Show the first five rows\n",
    "data.head(5)"
   ]
  },
  {
   "cell_type": "markdown",
   "metadata": {
    "id": "B5D8GggavCQe"
   },
   "source": [
    "> Next, get some insights about `data` by using `.info()` and `.describe()` methods."
   ]
  },
  {
   "cell_type": "code",
   "execution_count": 96,
   "metadata": {
    "id": "5fCLUcwdvCQe",
    "outputId": "cf5866c9-e200-4d0e-b410-4ae0dc2ad47c"
   },
   "outputs": [
    {
     "name": "stdout",
     "output_type": "stream",
     "text": [
      "<class 'pandas.core.frame.DataFrame'>\n",
      "RangeIndex: 5110 entries, 0 to 5109\n",
      "Data columns (total 11 columns):\n",
      " #   Column             Non-Null Count  Dtype  \n",
      "---  ------             --------------  -----  \n",
      " 0   gender             5110 non-null   object \n",
      " 1   age                5110 non-null   float64\n",
      " 2   hypertension       5110 non-null   int64  \n",
      " 3   heart_disease      5110 non-null   int64  \n",
      " 4   ever_married       5110 non-null   object \n",
      " 5   work_type          5110 non-null   object \n",
      " 6   Residence_type     5110 non-null   object \n",
      " 7   avg_glucose_level  5110 non-null   float64\n",
      " 8   bmi                4909 non-null   float64\n",
      " 9   smoking_status     5110 non-null   object \n",
      " 10  stroke             5110 non-null   int64  \n",
      "dtypes: float64(3), int64(3), object(5)\n",
      "memory usage: 439.3+ KB\n"
     ]
    }
   ],
   "source": [
    "data.info()"
   ]
  },
  {
   "cell_type": "code",
   "execution_count": 97,
   "metadata": {
    "id": "U2IR-eQ6vCQe",
    "outputId": "ac313fd6-78c6-4aa0-f8c5-711b78665db7"
   },
   "outputs": [
    {
     "data": {
      "text/html": [
       "<div>\n",
       "<style scoped>\n",
       "    .dataframe tbody tr th:only-of-type {\n",
       "        vertical-align: middle;\n",
       "    }\n",
       "\n",
       "    .dataframe tbody tr th {\n",
       "        vertical-align: top;\n",
       "    }\n",
       "\n",
       "    .dataframe thead th {\n",
       "        text-align: right;\n",
       "    }\n",
       "</style>\n",
       "<table border=\"1\" class=\"dataframe\">\n",
       "  <thead>\n",
       "    <tr style=\"text-align: right;\">\n",
       "      <th></th>\n",
       "      <th>age</th>\n",
       "      <th>hypertension</th>\n",
       "      <th>heart_disease</th>\n",
       "      <th>avg_glucose_level</th>\n",
       "      <th>bmi</th>\n",
       "      <th>stroke</th>\n",
       "    </tr>\n",
       "  </thead>\n",
       "  <tbody>\n",
       "    <tr>\n",
       "      <th>count</th>\n",
       "      <td>5110.000000</td>\n",
       "      <td>5110.000000</td>\n",
       "      <td>5110.000000</td>\n",
       "      <td>5110.000000</td>\n",
       "      <td>4909.000000</td>\n",
       "      <td>5110.000000</td>\n",
       "    </tr>\n",
       "    <tr>\n",
       "      <th>mean</th>\n",
       "      <td>43.226614</td>\n",
       "      <td>0.097456</td>\n",
       "      <td>0.054012</td>\n",
       "      <td>106.147677</td>\n",
       "      <td>28.893237</td>\n",
       "      <td>0.048728</td>\n",
       "    </tr>\n",
       "    <tr>\n",
       "      <th>std</th>\n",
       "      <td>22.612647</td>\n",
       "      <td>0.296607</td>\n",
       "      <td>0.226063</td>\n",
       "      <td>45.283560</td>\n",
       "      <td>7.854067</td>\n",
       "      <td>0.215320</td>\n",
       "    </tr>\n",
       "    <tr>\n",
       "      <th>min</th>\n",
       "      <td>0.080000</td>\n",
       "      <td>0.000000</td>\n",
       "      <td>0.000000</td>\n",
       "      <td>55.120000</td>\n",
       "      <td>10.300000</td>\n",
       "      <td>0.000000</td>\n",
       "    </tr>\n",
       "    <tr>\n",
       "      <th>25%</th>\n",
       "      <td>25.000000</td>\n",
       "      <td>0.000000</td>\n",
       "      <td>0.000000</td>\n",
       "      <td>77.245000</td>\n",
       "      <td>23.500000</td>\n",
       "      <td>0.000000</td>\n",
       "    </tr>\n",
       "    <tr>\n",
       "      <th>50%</th>\n",
       "      <td>45.000000</td>\n",
       "      <td>0.000000</td>\n",
       "      <td>0.000000</td>\n",
       "      <td>91.885000</td>\n",
       "      <td>28.100000</td>\n",
       "      <td>0.000000</td>\n",
       "    </tr>\n",
       "    <tr>\n",
       "      <th>75%</th>\n",
       "      <td>61.000000</td>\n",
       "      <td>0.000000</td>\n",
       "      <td>0.000000</td>\n",
       "      <td>114.090000</td>\n",
       "      <td>33.100000</td>\n",
       "      <td>0.000000</td>\n",
       "    </tr>\n",
       "    <tr>\n",
       "      <th>max</th>\n",
       "      <td>82.000000</td>\n",
       "      <td>1.000000</td>\n",
       "      <td>1.000000</td>\n",
       "      <td>271.740000</td>\n",
       "      <td>97.600000</td>\n",
       "      <td>1.000000</td>\n",
       "    </tr>\n",
       "  </tbody>\n",
       "</table>\n",
       "</div>"
      ],
      "text/plain": [
       "               age  hypertension  heart_disease  avg_glucose_level  \\\n",
       "count  5110.000000   5110.000000    5110.000000        5110.000000   \n",
       "mean     43.226614      0.097456       0.054012         106.147677   \n",
       "std      22.612647      0.296607       0.226063          45.283560   \n",
       "min       0.080000      0.000000       0.000000          55.120000   \n",
       "25%      25.000000      0.000000       0.000000          77.245000   \n",
       "50%      45.000000      0.000000       0.000000          91.885000   \n",
       "75%      61.000000      0.000000       0.000000         114.090000   \n",
       "max      82.000000      1.000000       1.000000         271.740000   \n",
       "\n",
       "               bmi       stroke  \n",
       "count  4909.000000  5110.000000  \n",
       "mean     28.893237     0.048728  \n",
       "std       7.854067     0.215320  \n",
       "min      10.300000     0.000000  \n",
       "25%      23.500000     0.000000  \n",
       "50%      28.100000     0.000000  \n",
       "75%      33.100000     0.000000  \n",
       "max      97.600000     1.000000  "
      ]
     },
     "execution_count": 97,
     "metadata": {},
     "output_type": "execute_result"
    }
   ],
   "source": [
    "data.describe()"
   ]
  },
  {
   "cell_type": "markdown",
   "metadata": {
    "id": "Ucj2SobKvCQf"
   },
   "source": [
    "> Next, you should show that the data is highly imbalanced between the two classes. You must use [`pie`](https://matplotlib.org/stable/api/_as_gen/matplotlib.pyplot.pie.html) plot from `matplotlib`. See [examples](https://matplotlib.org/stable/tutorials/introductory/sample_plots.html#pie-charts) and read documentation carefully. Your plot should PRECISELY match with the provided pie chart; otherwise it gets zero."
   ]
  },
  {
   "cell_type": "code",
   "execution_count": 122,
   "metadata": {
    "id": "3mRhuvVcvCQf",
    "outputId": "dc1df52d-0641-4ed3-9d06-9f5093f2a377"
   },
   "outputs": [
    {
     "data": {
      "image/png": "[encoded data removed]",
      "text/plain": [
       "<Figure size 576x576 with 1 Axes>"
      ]
     },
     "metadata": {},
     "output_type": "display_data"
    }
   ],
   "source": [
    "''' Plot a pie chart that shows the imbalanced distribution of the two classes for stroke {0,1} [10 points]\n",
    "\n",
    "The plot plt.figure should have a figsize=(8,8)\n",
    "\n",
    "The pie plot should have the following parameter settings:\n",
    "explode = (0.1,0), \n",
    "autopct='%1.2f%%', \n",
    "shadow=False,\n",
    "startangle=90\n",
    "\n",
    "NOTE: The pie plot should get the ratios from data (NO HARDCODING),\n",
    "and should precisely match with the provided plot below with title and all settings;\n",
    "otherwise it gets zero.\n",
    "'''\n",
    "\n",
    "labels= '0','1'\n",
    "\n",
    "explode = (0.1,0)\n",
    "autopct='%1.2f%%'\n",
    "shadow=False\n",
    "startangle=90\n",
    "x=[1-data[\"stroke\"].mean(),data[\"stroke\"].mean()]\n",
    "\n",
    "fig= plt.figure(figsize=(8,8))\n",
    "plt.pie(x,\n",
    "        autopct=autopct,\n",
    "        explode=explode,\n",
    "        startangle=startangle,\n",
    "        shadow=shadow,\n",
    "        labels=labels)\n",
    "\n",
    "\n",
    "plt.title(\"Ratio of strokes in the data\")\n",
    "plt.show()\n",
    "\n"
   ]
  },
  {
   "cell_type": "markdown",
   "metadata": {
    "id": "Od231d8-vCQf"
   },
   "source": [
    ">You should always check whether your dataset contains `NA` values and decide what to do about it. [`.isna()`](https://pandas.pydata.org/pandas-docs/stable/reference/api/pandas.DataFrame.isna.html) method followed by [`.sum()`](https://cmdlinetips.com/2020/11/how-to-get-number-of-missing-values-in-each-column-in-pandas/) method can generate good reports for na values."
   ]
  },
  {
   "cell_type": "code",
   "execution_count": 99,
   "metadata": {
    "id": "cVYSiOcwvCQf",
    "outputId": "995477dc-6c81-4ef4-d49b-32c2f52c6512"
   },
   "outputs": [
    {
     "name": "stdout",
     "output_type": "stream",
     "text": [
      "gender                 0\n",
      "age                    0\n",
      "hypertension           0\n",
      "heart_disease          0\n",
      "ever_married           0\n",
      "work_type              0\n",
      "Residence_type         0\n",
      "avg_glucose_level      0\n",
      "bmi                  201\n",
      "smoking_status         0\n",
      "stroke                 0\n",
      "dtype: int64\n"
     ]
    }
   ],
   "source": [
    "# Check if there is any na values in data\n",
    "\n",
    "print(data.isna().sum())"
   ]
  },
  {
   "cell_type": "markdown",
   "metadata": {
    "id": "pAoOM1ervCQg"
   },
   "source": [
    "> The easiest way to get rid of `NA`s is to drop them, although there are sometimes better alternatives. However, since this is a highly imbalanced dataset, you should be careful about the distribution of `NA`s in each class. Let's check which class holds the majority of na values. First, split the `data` to two separate dataframes `positive` and `negative` based on `stroke` labels."
   ]
  },
  {
   "cell_type": "code",
   "execution_count": 100,
   "metadata": {
    "id": "CEjEadtJvCQg"
   },
   "outputs": [],
   "source": [
    "positive = data[data[\"stroke\"]==1]\n",
    "negative = data[data[\"stroke\"]==0]"
   ]
  },
  {
   "cell_type": "code",
   "execution_count": 101,
   "metadata": {
    "id": "qFDdJ4LXvCQg",
    "outputId": "5866af89-934b-46cc-fb0d-5d4003b4209c"
   },
   "outputs": [
    {
     "data": {
      "text/html": [
       "<div>\n",
       "<style scoped>\n",
       "    .dataframe tbody tr th:only-of-type {\n",
       "        vertical-align: middle;\n",
       "    }\n",
       "\n",
       "    .dataframe tbody tr th {\n",
       "        vertical-align: top;\n",
       "    }\n",
       "\n",
       "    .dataframe thead th {\n",
       "        text-align: right;\n",
       "    }\n",
       "</style>\n",
       "<table border=\"1\" class=\"dataframe\">\n",
       "  <thead>\n",
       "    <tr style=\"text-align: right;\">\n",
       "      <th></th>\n",
       "      <th>gender</th>\n",
       "      <th>age</th>\n",
       "      <th>hypertension</th>\n",
       "      <th>heart_disease</th>\n",
       "      <th>ever_married</th>\n",
       "      <th>work_type</th>\n",
       "      <th>Residence_type</th>\n",
       "      <th>avg_glucose_level</th>\n",
       "      <th>bmi</th>\n",
       "      <th>smoking_status</th>\n",
       "      <th>stroke</th>\n",
       "    </tr>\n",
       "  </thead>\n",
       "  <tbody>\n",
       "    <tr>\n",
       "      <th>0</th>\n",
       "      <td>Male</td>\n",
       "      <td>67.0</td>\n",
       "      <td>0</td>\n",
       "      <td>1</td>\n",
       "      <td>Yes</td>\n",
       "      <td>Private</td>\n",
       "      <td>Urban</td>\n",
       "      <td>228.69</td>\n",
       "      <td>36.6</td>\n",
       "      <td>formerly smoked</td>\n",
       "      <td>1</td>\n",
       "    </tr>\n",
       "    <tr>\n",
       "      <th>1</th>\n",
       "      <td>Female</td>\n",
       "      <td>61.0</td>\n",
       "      <td>0</td>\n",
       "      <td>0</td>\n",
       "      <td>Yes</td>\n",
       "      <td>Self-employed</td>\n",
       "      <td>Rural</td>\n",
       "      <td>202.21</td>\n",
       "      <td>NaN</td>\n",
       "      <td>never smoked</td>\n",
       "      <td>1</td>\n",
       "    </tr>\n",
       "    <tr>\n",
       "      <th>2</th>\n",
       "      <td>Male</td>\n",
       "      <td>80.0</td>\n",
       "      <td>0</td>\n",
       "      <td>1</td>\n",
       "      <td>Yes</td>\n",
       "      <td>Private</td>\n",
       "      <td>Rural</td>\n",
       "      <td>105.92</td>\n",
       "      <td>32.5</td>\n",
       "      <td>never smoked</td>\n",
       "      <td>1</td>\n",
       "    </tr>\n",
       "    <tr>\n",
       "      <th>3</th>\n",
       "      <td>Female</td>\n",
       "      <td>49.0</td>\n",
       "      <td>0</td>\n",
       "      <td>0</td>\n",
       "      <td>Yes</td>\n",
       "      <td>Private</td>\n",
       "      <td>Urban</td>\n",
       "      <td>171.23</td>\n",
       "      <td>34.4</td>\n",
       "      <td>smokes</td>\n",
       "      <td>1</td>\n",
       "    </tr>\n",
       "    <tr>\n",
       "      <th>4</th>\n",
       "      <td>Female</td>\n",
       "      <td>79.0</td>\n",
       "      <td>1</td>\n",
       "      <td>0</td>\n",
       "      <td>Yes</td>\n",
       "      <td>Self-employed</td>\n",
       "      <td>Rural</td>\n",
       "      <td>174.12</td>\n",
       "      <td>24.0</td>\n",
       "      <td>never smoked</td>\n",
       "      <td>1</td>\n",
       "    </tr>\n",
       "    <tr>\n",
       "      <th>...</th>\n",
       "      <td>...</td>\n",
       "      <td>...</td>\n",
       "      <td>...</td>\n",
       "      <td>...</td>\n",
       "      <td>...</td>\n",
       "      <td>...</td>\n",
       "      <td>...</td>\n",
       "      <td>...</td>\n",
       "      <td>...</td>\n",
       "      <td>...</td>\n",
       "      <td>...</td>\n",
       "    </tr>\n",
       "    <tr>\n",
       "      <th>244</th>\n",
       "      <td>Male</td>\n",
       "      <td>57.0</td>\n",
       "      <td>0</td>\n",
       "      <td>0</td>\n",
       "      <td>Yes</td>\n",
       "      <td>Private</td>\n",
       "      <td>Rural</td>\n",
       "      <td>84.96</td>\n",
       "      <td>36.7</td>\n",
       "      <td>Unknown</td>\n",
       "      <td>1</td>\n",
       "    </tr>\n",
       "    <tr>\n",
       "      <th>245</th>\n",
       "      <td>Female</td>\n",
       "      <td>14.0</td>\n",
       "      <td>0</td>\n",
       "      <td>0</td>\n",
       "      <td>No</td>\n",
       "      <td>children</td>\n",
       "      <td>Rural</td>\n",
       "      <td>57.93</td>\n",
       "      <td>30.9</td>\n",
       "      <td>Unknown</td>\n",
       "      <td>1</td>\n",
       "    </tr>\n",
       "    <tr>\n",
       "      <th>246</th>\n",
       "      <td>Female</td>\n",
       "      <td>75.0</td>\n",
       "      <td>0</td>\n",
       "      <td>0</td>\n",
       "      <td>Yes</td>\n",
       "      <td>Self-employed</td>\n",
       "      <td>Rural</td>\n",
       "      <td>78.80</td>\n",
       "      <td>29.3</td>\n",
       "      <td>formerly smoked</td>\n",
       "      <td>1</td>\n",
       "    </tr>\n",
       "    <tr>\n",
       "      <th>247</th>\n",
       "      <td>Male</td>\n",
       "      <td>71.0</td>\n",
       "      <td>1</td>\n",
       "      <td>0</td>\n",
       "      <td>Yes</td>\n",
       "      <td>Self-employed</td>\n",
       "      <td>Rural</td>\n",
       "      <td>87.80</td>\n",
       "      <td>NaN</td>\n",
       "      <td>Unknown</td>\n",
       "      <td>1</td>\n",
       "    </tr>\n",
       "    <tr>\n",
       "      <th>248</th>\n",
       "      <td>Female</td>\n",
       "      <td>78.0</td>\n",
       "      <td>0</td>\n",
       "      <td>0</td>\n",
       "      <td>Yes</td>\n",
       "      <td>Private</td>\n",
       "      <td>Rural</td>\n",
       "      <td>78.81</td>\n",
       "      <td>19.6</td>\n",
       "      <td>Unknown</td>\n",
       "      <td>1</td>\n",
       "    </tr>\n",
       "  </tbody>\n",
       "</table>\n",
       "<p>249 rows × 11 columns</p>\n",
       "</div>"
      ],
      "text/plain": [
       "     gender   age  hypertension  heart_disease ever_married      work_type  \\\n",
       "0      Male  67.0             0              1          Yes        Private   \n",
       "1    Female  61.0             0              0          Yes  Self-employed   \n",
       "2      Male  80.0             0              1          Yes        Private   \n",
       "3    Female  49.0             0              0          Yes        Private   \n",
       "4    Female  79.0             1              0          Yes  Self-employed   \n",
       "..      ...   ...           ...            ...          ...            ...   \n",
       "244    Male  57.0             0              0          Yes        Private   \n",
       "245  Female  14.0             0              0           No       children   \n",
       "246  Female  75.0             0              0          Yes  Self-employed   \n",
       "247    Male  71.0             1              0          Yes  Self-employed   \n",
       "248  Female  78.0             0              0          Yes        Private   \n",
       "\n",
       "    Residence_type  avg_glucose_level   bmi   smoking_status  stroke  \n",
       "0            Urban             228.69  36.6  formerly smoked       1  \n",
       "1            Rural             202.21   NaN     never smoked       1  \n",
       "2            Rural             105.92  32.5     never smoked       1  \n",
       "3            Urban             171.23  34.4           smokes       1  \n",
       "4            Rural             174.12  24.0     never smoked       1  \n",
       "..             ...                ...   ...              ...     ...  \n",
       "244          Rural              84.96  36.7          Unknown       1  \n",
       "245          Rural              57.93  30.9          Unknown       1  \n",
       "246          Rural              78.80  29.3  formerly smoked       1  \n",
       "247          Rural              87.80   NaN          Unknown       1  \n",
       "248          Rural              78.81  19.6          Unknown       1  \n",
       "\n",
       "[249 rows x 11 columns]"
      ]
     },
     "execution_count": 101,
     "metadata": {},
     "output_type": "execute_result"
    }
   ],
   "source": [
    "# Now, positive should contain only the rows with: stroke == 1\n",
    "positive"
   ]
  },
  {
   "cell_type": "code",
   "execution_count": 102,
   "metadata": {
    "id": "bxtBvWYTvCQh",
    "outputId": "5d88e537-bcf3-475a-b789-7baf92ca538f"
   },
   "outputs": [
    {
     "data": {
      "text/html": [
       "<div>\n",
       "<style scoped>\n",
       "    .dataframe tbody tr th:only-of-type {\n",
       "        vertical-align: middle;\n",
       "    }\n",
       "\n",
       "    .dataframe tbody tr th {\n",
       "        vertical-align: top;\n",
       "    }\n",
       "\n",
       "    .dataframe thead th {\n",
       "        text-align: right;\n",
       "    }\n",
       "</style>\n",
       "<table border=\"1\" class=\"dataframe\">\n",
       "  <thead>\n",
       "    <tr style=\"text-align: right;\">\n",
       "      <th></th>\n",
       "      <th>gender</th>\n",
       "      <th>age</th>\n",
       "      <th>hypertension</th>\n",
       "      <th>heart_disease</th>\n",
       "      <th>ever_married</th>\n",
       "      <th>work_type</th>\n",
       "      <th>Residence_type</th>\n",
       "      <th>avg_glucose_level</th>\n",
       "      <th>bmi</th>\n",
       "      <th>smoking_status</th>\n",
       "      <th>stroke</th>\n",
       "    </tr>\n",
       "  </thead>\n",
       "  <tbody>\n",
       "    <tr>\n",
       "      <th>249</th>\n",
       "      <td>Male</td>\n",
       "      <td>3.0</td>\n",
       "      <td>0</td>\n",
       "      <td>0</td>\n",
       "      <td>No</td>\n",
       "      <td>children</td>\n",
       "      <td>Rural</td>\n",
       "      <td>95.12</td>\n",
       "      <td>18.0</td>\n",
       "      <td>Unknown</td>\n",
       "      <td>0</td>\n",
       "    </tr>\n",
       "    <tr>\n",
       "      <th>250</th>\n",
       "      <td>Male</td>\n",
       "      <td>58.0</td>\n",
       "      <td>1</td>\n",
       "      <td>0</td>\n",
       "      <td>Yes</td>\n",
       "      <td>Private</td>\n",
       "      <td>Urban</td>\n",
       "      <td>87.96</td>\n",
       "      <td>39.2</td>\n",
       "      <td>never smoked</td>\n",
       "      <td>0</td>\n",
       "    </tr>\n",
       "    <tr>\n",
       "      <th>251</th>\n",
       "      <td>Female</td>\n",
       "      <td>8.0</td>\n",
       "      <td>0</td>\n",
       "      <td>0</td>\n",
       "      <td>No</td>\n",
       "      <td>Private</td>\n",
       "      <td>Urban</td>\n",
       "      <td>110.89</td>\n",
       "      <td>17.6</td>\n",
       "      <td>Unknown</td>\n",
       "      <td>0</td>\n",
       "    </tr>\n",
       "    <tr>\n",
       "      <th>252</th>\n",
       "      <td>Female</td>\n",
       "      <td>70.0</td>\n",
       "      <td>0</td>\n",
       "      <td>0</td>\n",
       "      <td>Yes</td>\n",
       "      <td>Private</td>\n",
       "      <td>Rural</td>\n",
       "      <td>69.04</td>\n",
       "      <td>35.9</td>\n",
       "      <td>formerly smoked</td>\n",
       "      <td>0</td>\n",
       "    </tr>\n",
       "    <tr>\n",
       "      <th>253</th>\n",
       "      <td>Male</td>\n",
       "      <td>14.0</td>\n",
       "      <td>0</td>\n",
       "      <td>0</td>\n",
       "      <td>No</td>\n",
       "      <td>Never_worked</td>\n",
       "      <td>Rural</td>\n",
       "      <td>161.28</td>\n",
       "      <td>19.1</td>\n",
       "      <td>Unknown</td>\n",
       "      <td>0</td>\n",
       "    </tr>\n",
       "    <tr>\n",
       "      <th>...</th>\n",
       "      <td>...</td>\n",
       "      <td>...</td>\n",
       "      <td>...</td>\n",
       "      <td>...</td>\n",
       "      <td>...</td>\n",
       "      <td>...</td>\n",
       "      <td>...</td>\n",
       "      <td>...</td>\n",
       "      <td>...</td>\n",
       "      <td>...</td>\n",
       "      <td>...</td>\n",
       "    </tr>\n",
       "    <tr>\n",
       "      <th>5105</th>\n",
       "      <td>Female</td>\n",
       "      <td>80.0</td>\n",
       "      <td>1</td>\n",
       "      <td>0</td>\n",
       "      <td>Yes</td>\n",
       "      <td>Private</td>\n",
       "      <td>Urban</td>\n",
       "      <td>83.75</td>\n",
       "      <td>NaN</td>\n",
       "      <td>never smoked</td>\n",
       "      <td>0</td>\n",
       "    </tr>\n",
       "    <tr>\n",
       "      <th>5106</th>\n",
       "      <td>Female</td>\n",
       "      <td>81.0</td>\n",
       "      <td>0</td>\n",
       "      <td>0</td>\n",
       "      <td>Yes</td>\n",
       "      <td>Self-employed</td>\n",
       "      <td>Urban</td>\n",
       "      <td>125.20</td>\n",
       "      <td>40.0</td>\n",
       "      <td>never smoked</td>\n",
       "      <td>0</td>\n",
       "    </tr>\n",
       "    <tr>\n",
       "      <th>5107</th>\n",
       "      <td>Female</td>\n",
       "      <td>35.0</td>\n",
       "      <td>0</td>\n",
       "      <td>0</td>\n",
       "      <td>Yes</td>\n",
       "      <td>Self-employed</td>\n",
       "      <td>Rural</td>\n",
       "      <td>82.99</td>\n",
       "      <td>30.6</td>\n",
       "      <td>never smoked</td>\n",
       "      <td>0</td>\n",
       "    </tr>\n",
       "    <tr>\n",
       "      <th>5108</th>\n",
       "      <td>Male</td>\n",
       "      <td>51.0</td>\n",
       "      <td>0</td>\n",
       "      <td>0</td>\n",
       "      <td>Yes</td>\n",
       "      <td>Private</td>\n",
       "      <td>Rural</td>\n",
       "      <td>166.29</td>\n",
       "      <td>25.6</td>\n",
       "      <td>formerly smoked</td>\n",
       "      <td>0</td>\n",
       "    </tr>\n",
       "    <tr>\n",
       "      <th>5109</th>\n",
       "      <td>Female</td>\n",
       "      <td>44.0</td>\n",
       "      <td>0</td>\n",
       "      <td>0</td>\n",
       "      <td>Yes</td>\n",
       "      <td>Govt_job</td>\n",
       "      <td>Urban</td>\n",
       "      <td>85.28</td>\n",
       "      <td>26.2</td>\n",
       "      <td>Unknown</td>\n",
       "      <td>0</td>\n",
       "    </tr>\n",
       "  </tbody>\n",
       "</table>\n",
       "<p>4861 rows × 11 columns</p>\n",
       "</div>"
      ],
      "text/plain": [
       "      gender   age  hypertension  heart_disease ever_married      work_type  \\\n",
       "249     Male   3.0             0              0           No       children   \n",
       "250     Male  58.0             1              0          Yes        Private   \n",
       "251   Female   8.0             0              0           No        Private   \n",
       "252   Female  70.0             0              0          Yes        Private   \n",
       "253     Male  14.0             0              0           No   Never_worked   \n",
       "...      ...   ...           ...            ...          ...            ...   \n",
       "5105  Female  80.0             1              0          Yes        Private   \n",
       "5106  Female  81.0             0              0          Yes  Self-employed   \n",
       "5107  Female  35.0             0              0          Yes  Self-employed   \n",
       "5108    Male  51.0             0              0          Yes        Private   \n",
       "5109  Female  44.0             0              0          Yes       Govt_job   \n",
       "\n",
       "     Residence_type  avg_glucose_level   bmi   smoking_status  stroke  \n",
       "249           Rural              95.12  18.0          Unknown       0  \n",
       "250           Urban              87.96  39.2     never smoked       0  \n",
       "251           Urban             110.89  17.6          Unknown       0  \n",
       "252           Rural              69.04  35.9  formerly smoked       0  \n",
       "253           Rural             161.28  19.1          Unknown       0  \n",
       "...             ...                ...   ...              ...     ...  \n",
       "5105          Urban              83.75   NaN     never smoked       0  \n",
       "5106          Urban             125.20  40.0     never smoked       0  \n",
       "5107          Rural              82.99  30.6     never smoked       0  \n",
       "5108          Rural             166.29  25.6  formerly smoked       0  \n",
       "5109          Urban              85.28  26.2          Unknown       0  \n",
       "\n",
       "[4861 rows x 11 columns]"
      ]
     },
     "execution_count": 102,
     "metadata": {},
     "output_type": "execute_result"
    }
   ],
   "source": [
    "# negative should contain only the rows with: stroke == 0\n",
    "negative"
   ]
  },
  {
   "cell_type": "code",
   "execution_count": 103,
   "metadata": {
    "id": "gYEEkI0jvCQh",
    "outputId": "a768db77-e687-4bf7-d221-eefa1386a7d4"
   },
   "outputs": [
    {
     "name": "stdout",
     "output_type": "stream",
     "text": [
      "gender                0\n",
      "age                   0\n",
      "hypertension          0\n",
      "heart_disease         0\n",
      "ever_married          0\n",
      "work_type             0\n",
      "Residence_type        0\n",
      "avg_glucose_level     0\n",
      "bmi                  40\n",
      "smoking_status        0\n",
      "stroke                0\n",
      "dtype: int64\n"
     ]
    }
   ],
   "source": [
    "# check na for positive\n",
    "print(positive.isna().sum())"
   ]
  },
  {
   "cell_type": "code",
   "execution_count": 104,
   "metadata": {
    "id": "WgBIf6BuvCQh",
    "outputId": "48083092-06d9-4060-b621-32aa9a778ce0"
   },
   "outputs": [
    {
     "name": "stdout",
     "output_type": "stream",
     "text": [
      "gender                 0\n",
      "age                    0\n",
      "hypertension           0\n",
      "heart_disease          0\n",
      "ever_married           0\n",
      "work_type              0\n",
      "Residence_type         0\n",
      "avg_glucose_level      0\n",
      "bmi                  161\n",
      "smoking_status         0\n",
      "stroke                 0\n",
      "dtype: int64\n"
     ]
    }
   ],
   "source": [
    "# check na for negative\n",
    "print(negative.isna().sum())"
   ]
  },
  {
   "cell_type": "markdown",
   "metadata": {
    "id": "FPMaWUBwvCQh"
   },
   "source": [
    "> Ok, it turned out that most na values are in negative class. So, you can drop all `NA`s now."
   ]
  },
  {
   "cell_type": "code",
   "execution_count": 105,
   "metadata": {
    "id": "x3H7mfphvCQh"
   },
   "outputs": [],
   "source": [
    "# Drop na from data\n",
    "data=data.dropna()"
   ]
  },
  {
   "cell_type": "code",
   "execution_count": 106,
   "metadata": {
    "id": "y0m3xefkvCQi",
    "outputId": "17d719d4-b434-480d-8b56-9e10c06a2670"
   },
   "outputs": [
    {
     "name": "stdout",
     "output_type": "stream",
     "text": [
      "gender               0\n",
      "age                  0\n",
      "hypertension         0\n",
      "heart_disease        0\n",
      "ever_married         0\n",
      "work_type            0\n",
      "Residence_type       0\n",
      "avg_glucose_level    0\n",
      "bmi                  0\n",
      "smoking_status       0\n",
      "stroke               0\n",
      "dtype: int64\n"
     ]
    }
   ],
   "source": [
    "# Double-check that there is no NAs anymore\n",
    "print(data.isna().sum())"
   ]
  },
  {
   "cell_type": "markdown",
   "metadata": {
    "id": "w16_7r2wvCQi"
   },
   "source": [
    "> Next, you should convert all categorical features such as `gender` to numeric. [`LabelEncoder`](https://scikit-learn.org/stable/modules/generated/sklearn.preprocessing.LabelEncoder.html) is quite helpful for this conversion.\n",
    "\n",
    "> **NOTE**: Make sure that all categorical values have been converted to numeric as the following dataframe shows."
   ]
  },
  {
   "cell_type": "code",
   "execution_count": 109,
   "metadata": {
    "id": "nClll3MdvCQi",
    "outputId": "92267dc4-dd21-4e28-eb8e-a1d032a8b56f"
   },
   "outputs": [
    {
     "data": {
      "text/html": [
       "<div>\n",
       "<style scoped>\n",
       "    .dataframe tbody tr th:only-of-type {\n",
       "        vertical-align: middle;\n",
       "    }\n",
       "\n",
       "    .dataframe tbody tr th {\n",
       "        vertical-align: top;\n",
       "    }\n",
       "\n",
       "    .dataframe thead th {\n",
       "        text-align: right;\n",
       "    }\n",
       "</style>\n",
       "<table border=\"1\" class=\"dataframe\">\n",
       "  <thead>\n",
       "    <tr style=\"text-align: right;\">\n",
       "      <th></th>\n",
       "      <th>gender</th>\n",
       "      <th>age</th>\n",
       "      <th>hypertension</th>\n",
       "      <th>heart_disease</th>\n",
       "      <th>ever_married</th>\n",
       "      <th>work_type</th>\n",
       "      <th>Residence_type</th>\n",
       "      <th>avg_glucose_level</th>\n",
       "      <th>bmi</th>\n",
       "      <th>smoking_status</th>\n",
       "      <th>stroke</th>\n",
       "    </tr>\n",
       "  </thead>\n",
       "  <tbody>\n",
       "    <tr>\n",
       "      <th>0</th>\n",
       "      <td>1</td>\n",
       "      <td>88</td>\n",
       "      <td>0</td>\n",
       "      <td>1</td>\n",
       "      <td>1</td>\n",
       "      <td>2</td>\n",
       "      <td>1</td>\n",
       "      <td>3734</td>\n",
       "      <td>239</td>\n",
       "      <td>1</td>\n",
       "      <td>1</td>\n",
       "    </tr>\n",
       "    <tr>\n",
       "      <th>2</th>\n",
       "      <td>1</td>\n",
       "      <td>101</td>\n",
       "      <td>0</td>\n",
       "      <td>1</td>\n",
       "      <td>1</td>\n",
       "      <td>2</td>\n",
       "      <td>0</td>\n",
       "      <td>2429</td>\n",
       "      <td>198</td>\n",
       "      <td>2</td>\n",
       "      <td>1</td>\n",
       "    </tr>\n",
       "    <tr>\n",
       "      <th>3</th>\n",
       "      <td>0</td>\n",
       "      <td>70</td>\n",
       "      <td>0</td>\n",
       "      <td>0</td>\n",
       "      <td>1</td>\n",
       "      <td>2</td>\n",
       "      <td>1</td>\n",
       "      <td>3309</td>\n",
       "      <td>217</td>\n",
       "      <td>3</td>\n",
       "      <td>1</td>\n",
       "    </tr>\n",
       "    <tr>\n",
       "      <th>4</th>\n",
       "      <td>0</td>\n",
       "      <td>100</td>\n",
       "      <td>1</td>\n",
       "      <td>0</td>\n",
       "      <td>1</td>\n",
       "      <td>3</td>\n",
       "      <td>0</td>\n",
       "      <td>3318</td>\n",
       "      <td>113</td>\n",
       "      <td>2</td>\n",
       "      <td>1</td>\n",
       "    </tr>\n",
       "    <tr>\n",
       "      <th>5</th>\n",
       "      <td>1</td>\n",
       "      <td>102</td>\n",
       "      <td>0</td>\n",
       "      <td>0</td>\n",
       "      <td>1</td>\n",
       "      <td>2</td>\n",
       "      <td>1</td>\n",
       "      <td>3367</td>\n",
       "      <td>163</td>\n",
       "      <td>1</td>\n",
       "      <td>1</td>\n",
       "    </tr>\n",
       "    <tr>\n",
       "      <th>6</th>\n",
       "      <td>1</td>\n",
       "      <td>95</td>\n",
       "      <td>1</td>\n",
       "      <td>1</td>\n",
       "      <td>1</td>\n",
       "      <td>2</td>\n",
       "      <td>0</td>\n",
       "      <td>579</td>\n",
       "      <td>147</td>\n",
       "      <td>2</td>\n",
       "      <td>1</td>\n",
       "    </tr>\n",
       "    <tr>\n",
       "      <th>7</th>\n",
       "      <td>0</td>\n",
       "      <td>90</td>\n",
       "      <td>0</td>\n",
       "      <td>0</td>\n",
       "      <td>0</td>\n",
       "      <td>2</td>\n",
       "      <td>1</td>\n",
       "      <td>1910</td>\n",
       "      <td>101</td>\n",
       "      <td>2</td>\n",
       "      <td>1</td>\n",
       "    </tr>\n",
       "    <tr>\n",
       "      <th>9</th>\n",
       "      <td>0</td>\n",
       "      <td>99</td>\n",
       "      <td>0</td>\n",
       "      <td>0</td>\n",
       "      <td>1</td>\n",
       "      <td>2</td>\n",
       "      <td>1</td>\n",
       "      <td>124</td>\n",
       "      <td>115</td>\n",
       "      <td>0</td>\n",
       "      <td>1</td>\n",
       "    </tr>\n",
       "    <tr>\n",
       "      <th>10</th>\n",
       "      <td>0</td>\n",
       "      <td>102</td>\n",
       "      <td>1</td>\n",
       "      <td>0</td>\n",
       "      <td>1</td>\n",
       "      <td>2</td>\n",
       "      <td>0</td>\n",
       "      <td>1140</td>\n",
       "      <td>170</td>\n",
       "      <td>2</td>\n",
       "      <td>1</td>\n",
       "    </tr>\n",
       "    <tr>\n",
       "      <th>11</th>\n",
       "      <td>0</td>\n",
       "      <td>82</td>\n",
       "      <td>0</td>\n",
       "      <td>1</td>\n",
       "      <td>1</td>\n",
       "      <td>0</td>\n",
       "      <td>0</td>\n",
       "      <td>2864</td>\n",
       "      <td>241</td>\n",
       "      <td>3</td>\n",
       "      <td>1</td>\n",
       "    </tr>\n",
       "  </tbody>\n",
       "</table>\n",
       "</div>"
      ],
      "text/plain": [
       "    gender  age  hypertension  heart_disease  ever_married  work_type  \\\n",
       "0        1   88             0              1             1          2   \n",
       "2        1  101             0              1             1          2   \n",
       "3        0   70             0              0             1          2   \n",
       "4        0  100             1              0             1          3   \n",
       "5        1  102             0              0             1          2   \n",
       "6        1   95             1              1             1          2   \n",
       "7        0   90             0              0             0          2   \n",
       "9        0   99             0              0             1          2   \n",
       "10       0  102             1              0             1          2   \n",
       "11       0   82             0              1             1          0   \n",
       "\n",
       "    Residence_type  avg_glucose_level  bmi  smoking_status  stroke  \n",
       "0                1               3734  239               1       1  \n",
       "2                0               2429  198               2       1  \n",
       "3                1               3309  217               3       1  \n",
       "4                0               3318  113               2       1  \n",
       "5                1               3367  163               1       1  \n",
       "6                0                579  147               2       1  \n",
       "7                1               1910  101               2       1  \n",
       "9                1                124  115               0       1  \n",
       "10               0               1140  170               2       1  \n",
       "11               0               2864  241               3       1  "
      ]
     },
     "execution_count": 109,
     "metadata": {},
     "output_type": "execute_result"
    }
   ],
   "source": [
    "#  Using LabelEncoder transform all categorical values to numeric\n",
    "le = preprocessing.LabelEncoder()\n",
    "transformed_data = data.apply(le.fit_transform)\n",
    "\n",
    "# Show the first 10 rows of transformed_data\n",
    "transformed_data.head(10)"
   ]
  },
  {
   "cell_type": "markdown",
   "metadata": {
    "id": "mOWJcMhDvCQi"
   },
   "source": [
    "> Next, you should separate `X` (features) from `y` (labels)."
   ]
  },
  {
   "cell_type": "code",
   "execution_count": 140,
   "metadata": {
    "id": "TfJozUNdvCQj",
    "outputId": "fe2b53f6-c4a3-4e76-ca21-6addbe12261c"
   },
   "outputs": [
    {
     "name": "stdout",
     "output_type": "stream",
     "text": [
      "(4909, 10)\n",
      "(4909,)\n"
     ]
    },
    {
     "data": {
      "text/html": [
       "<div>\n",
       "<style scoped>\n",
       "    .dataframe tbody tr th:only-of-type {\n",
       "        vertical-align: middle;\n",
       "    }\n",
       "\n",
       "    .dataframe tbody tr th {\n",
       "        vertical-align: top;\n",
       "    }\n",
       "\n",
       "    .dataframe thead th {\n",
       "        text-align: right;\n",
       "    }\n",
       "</style>\n",
       "<table border=\"1\" class=\"dataframe\">\n",
       "  <thead>\n",
       "    <tr style=\"text-align: right;\">\n",
       "      <th></th>\n",
       "      <th>gender</th>\n",
       "      <th>age</th>\n",
       "      <th>hypertension</th>\n",
       "      <th>heart_disease</th>\n",
       "      <th>ever_married</th>\n",
       "      <th>work_type</th>\n",
       "      <th>Residence_type</th>\n",
       "      <th>avg_glucose_level</th>\n",
       "      <th>bmi</th>\n",
       "      <th>smoking_status</th>\n",
       "    </tr>\n",
       "  </thead>\n",
       "  <tbody>\n",
       "    <tr>\n",
       "      <th>0</th>\n",
       "      <td>1</td>\n",
       "      <td>88</td>\n",
       "      <td>0</td>\n",
       "      <td>1</td>\n",
       "      <td>1</td>\n",
       "      <td>2</td>\n",
       "      <td>1</td>\n",
       "      <td>3734</td>\n",
       "      <td>239</td>\n",
       "      <td>1</td>\n",
       "    </tr>\n",
       "    <tr>\n",
       "      <th>2</th>\n",
       "      <td>1</td>\n",
       "      <td>101</td>\n",
       "      <td>0</td>\n",
       "      <td>1</td>\n",
       "      <td>1</td>\n",
       "      <td>2</td>\n",
       "      <td>0</td>\n",
       "      <td>2429</td>\n",
       "      <td>198</td>\n",
       "      <td>2</td>\n",
       "    </tr>\n",
       "    <tr>\n",
       "      <th>3</th>\n",
       "      <td>0</td>\n",
       "      <td>70</td>\n",
       "      <td>0</td>\n",
       "      <td>0</td>\n",
       "      <td>1</td>\n",
       "      <td>2</td>\n",
       "      <td>1</td>\n",
       "      <td>3309</td>\n",
       "      <td>217</td>\n",
       "      <td>3</td>\n",
       "    </tr>\n",
       "    <tr>\n",
       "      <th>4</th>\n",
       "      <td>0</td>\n",
       "      <td>100</td>\n",
       "      <td>1</td>\n",
       "      <td>0</td>\n",
       "      <td>1</td>\n",
       "      <td>3</td>\n",
       "      <td>0</td>\n",
       "      <td>3318</td>\n",
       "      <td>113</td>\n",
       "      <td>2</td>\n",
       "    </tr>\n",
       "    <tr>\n",
       "      <th>5</th>\n",
       "      <td>1</td>\n",
       "      <td>102</td>\n",
       "      <td>0</td>\n",
       "      <td>0</td>\n",
       "      <td>1</td>\n",
       "      <td>2</td>\n",
       "      <td>1</td>\n",
       "      <td>3367</td>\n",
       "      <td>163</td>\n",
       "      <td>1</td>\n",
       "    </tr>\n",
       "  </tbody>\n",
       "</table>\n",
       "</div>"
      ],
      "text/plain": [
       "   gender  age  hypertension  heart_disease  ever_married  work_type  \\\n",
       "0       1   88             0              1             1          2   \n",
       "2       1  101             0              1             1          2   \n",
       "3       0   70             0              0             1          2   \n",
       "4       0  100             1              0             1          3   \n",
       "5       1  102             0              0             1          2   \n",
       "\n",
       "   Residence_type  avg_glucose_level  bmi  smoking_status  \n",
       "0               1               3734  239               1  \n",
       "2               0               2429  198               2  \n",
       "3               1               3309  217               3  \n",
       "4               0               3318  113               2  \n",
       "5               1               3367  163               1  "
      ]
     },
     "execution_count": 140,
     "metadata": {},
     "output_type": "execute_result"
    }
   ],
   "source": [
    "# Get feature vector X (all columns but \"stroke\") and target label y as \"stroke\"; y should contain stroke only\n",
    "X = transformed_data.drop(columns=[\"stroke\"])\n",
    "y = transformed_data[\"stroke\"]\n",
    "\n",
    "# Print X,y shapes\n",
    "print(X.shape)\n",
    "print(y.shape)\n",
    "\n",
    "# Show the first five rows of X\n",
    "X.head(5)"
   ]
  },
  {
   "cell_type": "code",
   "execution_count": 141,
   "metadata": {
    "id": "Pe2VM_cZvCQj",
    "outputId": "2a108658-cf44-4253-84f1-8c0667128617"
   },
   "outputs": [
    {
     "data": {
      "text/plain": [
       "0    1\n",
       "2    1\n",
       "3    1\n",
       "4    1\n",
       "5    1\n",
       "Name: stroke, dtype: int64"
      ]
     },
     "execution_count": 141,
     "metadata": {},
     "output_type": "execute_result"
    }
   ],
   "source": [
    "# Show the first five rows of y\n",
    "y.head(5)"
   ]
  },
  {
   "cell_type": "markdown",
   "metadata": {
    "id": "3ohM8xGBvCQj"
   },
   "source": [
    "> As mentioned in the lectures, the data for supervised learning (both classification and regression) is split into training set and test set. We usually do this by using [`train_test_split()`](https://scikit-learn.org/stable/modules/generated/sklearn.model_selection.train_test_split.html) module from scikit-learn."
   ]
  },
  {
   "cell_type": "code",
   "execution_count": 215,
   "metadata": {
    "id": "oTi2YWW2vCQj",
    "outputId": "896990b8-ab62-4e55-9e1d-cb4c7bb23114"
   },
   "outputs": [
    {
     "name": "stdout",
     "output_type": "stream",
     "text": [
      "(3436, 10)\n",
      "(3436,)\n",
      "(1473, 10)\n",
      "(1473,)\n"
     ]
    }
   ],
   "source": [
    "# Split X,y to train and test with ratio of 70/30 for train/test respectively\n",
    "X_train, X_test, y_train, y_test = train_test_split(X,y,test_size=.3)\n",
    "\n",
    "# Print X_train, y_train, X_test, y_test (in the same order)\n",
    "print(X_train.shape)\n",
    "print(y_train.shape)\n",
    "print(X_test.shape)\n",
    "print(y_test.shape)"
   ]
  },
  {
   "cell_type": "markdown",
   "metadata": {
    "id": "0iXF7Bs-vCQk"
   },
   "source": [
    "## Part-II Binary Classification with Random Forest and XGBoost"
   ]
  },
  {
   "cell_type": "markdown",
   "metadata": {
    "id": "26bxGgwmvCQk"
   },
   "source": [
    "Now that the data is prepared, you can train and test classifiers for binary classification. You are going to use Random Forest and XGBoost classifiers. Both of these classifiers are commonly used in ML projects and every ML engineer or Data Scientist should know how to work with them.\n",
    "\n",
    "Note that we use [`.fit()`](https://scikit-learn.org/stable/modules/generated/sklearn.ensemble.RandomForestClassifier.html#sklearn.ensemble.RandomForestClassifier.fit) method applied on `(X_train, y_train)` for training and [`.predict()`](https://scikit-learn.org/stable/modules/generated/sklearn.ensemble.RandomForestClassifier.html#sklearn.ensemble.RandomForestClassifier.predict) method applied on `(X_test)` without showing the lables `y_test` for making predictions (testing). Click on the methods and read their sklearn documentation for further information. XGBoost documentation for [`.fit()`](https://xgboost.readthedocs.io/en/latest/python/python_api.html#xgboost.dask.DaskXGBRanker.fit) and [`.predict()`](https://xgboost.readthedocs.io/en/latest/python/python_api.html#xgboost.dask.DaskXGBRanker.predict) methods suggests that their usage is similar to sklearn. You should also check the textbook codes in Chapter-3 and the supplementary materials (Jupyter Notebooks) to learn more."
   ]
  },
  {
   "cell_type": "code",
   "execution_count": 216,
   "metadata": {
    "colab": {
     "base_uri": "https://localhost:8080/"
    },
    "executionInfo": {
     "elapsed": 308,
     "status": "ok",
     "timestamp": 1632418721820,
     "user": {
      "displayName": "Fereydoon Vafaei",
      "photoUrl": "https://lh3.googleusercontent.com/a-/AOh14GhXJCZPNc_PChl1s-2GBld1PRrWfM-_XM1-air1=s64",
      "userId": "03595853268658568546"
     },
     "user_tz": 240
    },
    "id": "yCpJqtMVvCQk",
    "outputId": "364cb237-9732-4baf-829f-ff5da90b1f68"
   },
   "outputs": [
    {
     "data": {
      "text/plain": [
       "RandomForestClassifier()"
      ]
     },
     "execution_count": 216,
     "metadata": {},
     "output_type": "execute_result"
    }
   ],
   "source": [
    "# Create an rf classifier and train it on (X_train, y_train)\n",
    "rf = RandomForestClassifier()\n",
    "rf.fit(X_train,y_train)"
   ]
  },
  {
   "cell_type": "code",
   "execution_count": 217,
   "metadata": {
    "executionInfo": {
     "elapsed": 22,
     "status": "ok",
     "timestamp": 1632418721822,
     "user": {
      "displayName": "Fereydoon Vafaei",
      "photoUrl": "https://lh3.googleusercontent.com/a-/AOh14GhXJCZPNc_PChl1s-2GBld1PRrWfM-_XM1-air1=s64",
      "userId": "03595853268658568546"
     },
     "user_tz": 240
    },
    "id": "nh8czl2tvCQk"
   },
   "outputs": [],
   "source": [
    "# Test rf on X_test\n",
    "rf_predictions = rf.predict(X_test)\n"
   ]
  },
  {
   "cell_type": "code",
   "execution_count": 218,
   "metadata": {
    "colab": {
     "base_uri": "https://localhost:8080/"
    },
    "executionInfo": {
     "elapsed": 21,
     "status": "ok",
     "timestamp": 1632418721823,
     "user": {
      "displayName": "Fereydoon Vafaei",
      "photoUrl": "https://lh3.googleusercontent.com/a-/AOh14GhXJCZPNc_PChl1s-2GBld1PRrWfM-_XM1-air1=s64",
      "userId": "03595853268658568546"
     },
     "user_tz": 240
    },
    "id": "v7EOSeOCvCQl",
    "outputId": "8a8ed9fb-ab63-4bf1-8e8b-4f3e9a2b4d80"
   },
   "outputs": [
    {
     "name": "stdout",
     "output_type": "stream",
     "text": [
      "Random Forest confusion matrix: \n",
      " [[1391    0]\n",
      " [  81    1]]\n"
     ]
    }
   ],
   "source": [
    "# Print confusion matrix for rf\n",
    "rf_matrix = confusion_matrix(y_test,rf_predictions)\n",
    "print('Random Forest confusion matrix: \\n {}'.format(rf_matrix))"
   ]
  },
  {
   "cell_type": "code",
   "execution_count": 219,
   "metadata": {
    "colab": {
     "base_uri": "https://localhost:8080/"
    },
    "executionInfo": {
     "elapsed": 20,
     "status": "ok",
     "timestamp": 1632418721824,
     "user": {
      "displayName": "Fereydoon Vafaei",
      "photoUrl": "https://lh3.googleusercontent.com/a-/AOh14GhXJCZPNc_PChl1s-2GBld1PRrWfM-_XM1-air1=s64",
      "userId": "03595853268658568546"
     },
     "user_tz": 240
    },
    "id": "RJp4FSfKvCQl",
    "outputId": "d559fab0-f009-484e-be84-58f26548f4f4"
   },
   "outputs": [
    {
     "name": "stdout",
     "output_type": "stream",
     "text": [
      "Random Forest accuracy:  0.945010183299389\n"
     ]
    }
   ],
   "source": [
    "# Compute the accuracy score for rf\n",
    "rf_acc = metrics.accuracy_score(y_test,rf_predictions)\n",
    "print('Random Forest accuracy: ', rf_acc)"
   ]
  },
  {
   "cell_type": "markdown",
   "metadata": {
    "id": "lLmWHMx6vCQl"
   },
   "source": [
    "> It looks like the `rf` has a high accuracy, but be careful before making conclusions as the data is highly imbalanced! Let's get the [Balanced Accuracy](https://scikit-learn.org/stable/modules/generated/sklearn.metrics.balanced_accuracy_score.html) to get better insight about the `rf` classifier performance."
   ]
  },
  {
   "cell_type": "code",
   "execution_count": 220,
   "metadata": {
    "colab": {
     "base_uri": "https://localhost:8080/"
    },
    "executionInfo": {
     "elapsed": 18,
     "status": "ok",
     "timestamp": 1632418721824,
     "user": {
      "displayName": "Fereydoon Vafaei",
      "photoUrl": "https://lh3.googleusercontent.com/a-/AOh14GhXJCZPNc_PChl1s-2GBld1PRrWfM-_XM1-air1=s64",
      "userId": "03595853268658568546"
     },
     "user_tz": 240
    },
    "id": "aMldvBVXvCQm",
    "outputId": "a4777cb4-f497-4760-aa6c-fbe3de4656c8"
   },
   "outputs": [
    {
     "name": "stdout",
     "output_type": "stream",
     "text": [
      "Random Forest balanced accuracy:  0.5060975609756098\n"
     ]
    }
   ],
   "source": [
    "# Compute the balanced accuracy score for rf\n",
    "rf_bal_acc = metrics.balanced_accuracy_score(y_test,rf_predictions)\n",
    "print('Random Forest balanced accuracy: ', rf_bal_acc)"
   ]
  },
  {
   "cell_type": "markdown",
   "metadata": {
    "id": "Khtqdz5yvCQm"
   },
   "source": [
    "> Next, get [`classification_report`](https://scikit-learn.org/stable/modules/generated/sklearn.metrics.classification_report.html) for `rf`."
   ]
  },
  {
   "cell_type": "code",
   "execution_count": 221,
   "metadata": {
    "colab": {
     "base_uri": "https://localhost:8080/"
    },
    "executionInfo": {
     "elapsed": 16,
     "status": "ok",
     "timestamp": 1632418721825,
     "user": {
      "displayName": "Fereydoon Vafaei",
      "photoUrl": "https://lh3.googleusercontent.com/a-/AOh14GhXJCZPNc_PChl1s-2GBld1PRrWfM-_XM1-air1=s64",
      "userId": "03595853268658568546"
     },
     "user_tz": 240
    },
    "id": "Sq1XfBBjvCQm",
    "outputId": "b370ee38-f67d-4343-ae56-2b806a6a12d2"
   },
   "outputs": [
    {
     "name": "stdout",
     "output_type": "stream",
     "text": [
      "              precision    recall  f1-score   support\n",
      "\n",
      "           0       0.94      1.00      0.97      1391\n",
      "           1       1.00      0.01      0.02        82\n",
      "\n",
      "    accuracy                           0.95      1473\n",
      "   macro avg       0.97      0.51      0.50      1473\n",
      "weighted avg       0.95      0.95      0.92      1473\n",
      "\n"
     ]
    }
   ],
   "source": [
    "# Get classification_report for rf\n",
    "# Note: you should put one line inside print\n",
    "print(classification_report(y_test,rf_predictions))"
   ]
  },
  {
   "cell_type": "markdown",
   "metadata": {
    "id": "RqpywbNkvCQm"
   },
   "source": [
    "> Next, train and test XGBoost classifier."
   ]
  },
  {
   "cell_type": "code",
   "execution_count": 224,
   "metadata": {
    "executionInfo": {
     "elapsed": 15,
     "status": "ok",
     "timestamp": 1632418721826,
     "user": {
      "displayName": "Fereydoon Vafaei",
      "photoUrl": "https://lh3.googleusercontent.com/a-/AOh14GhXJCZPNc_PChl1s-2GBld1PRrWfM-_XM1-air1=s64",
      "userId": "03595853268658568546"
     },
     "user_tz": 240
    },
    "id": "Yxi9yWuyvCQm"
   },
   "outputs": [
    {
     "name": "stderr",
     "output_type": "stream",
     "text": [
      "C:\\Users\\Mikan\\anaconda3\\lib\\site-packages\\xgboost\\sklearn.py:888: UserWarning: The use of label encoder in XGBClassifier is deprecated and will be removed in a future release. To remove this warning, do the following: 1) Pass option use_label_encoder=False when constructing XGBClassifier object; and 2) Encode your labels (y) as integers starting with 0, i.e. 0, 1, 2, ..., [num_class - 1].\n",
      "  warnings.warn(label_encoder_deprecation_msg, UserWarning)\n"
     ]
    },
    {
     "name": "stdout",
     "output_type": "stream",
     "text": [
      "[16:23:41] WARNING: ..\\src\\learner.cc:1061: Starting in XGBoost 1.3.0, the default evaluation metric used with the objective 'binary:logistic' was changed from 'error' to 'logloss'. Explicitly set eval_metric if you'd like to restore the old behavior.\n"
     ]
    }
   ],
   "source": [
    "# Train and test XGBoost, ignore the version warning if any\n",
    "xgb = xgboost.XGBClassifier()\n",
    "xgb.fit(X_train,y_train)\n",
    "\n",
    "xgb_predictions = xgb.predict(X_test)"
   ]
  },
  {
   "cell_type": "code",
   "execution_count": 225,
   "metadata": {
    "colab": {
     "base_uri": "https://localhost:8080/"
    },
    "executionInfo": {
     "elapsed": 14,
     "status": "ok",
     "timestamp": 1632418721827,
     "user": {
      "displayName": "Fereydoon Vafaei",
      "photoUrl": "https://lh3.googleusercontent.com/a-/AOh14GhXJCZPNc_PChl1s-2GBld1PRrWfM-_XM1-air1=s64",
      "userId": "03595853268658568546"
     },
     "user_tz": 240
    },
    "id": "i-NH9vScvCQn",
    "outputId": "559ebb56-0dae-4116-a1ab-a1694c9e2821"
   },
   "outputs": [
    {
     "name": "stdout",
     "output_type": "stream",
     "text": [
      "XGBoost accuracy:  0.9395790902919212\n",
      "XGBoost confusion matrix: \n",
      " [[1381   10]\n",
      " [  79    3]]\n"
     ]
    }
   ],
   "source": [
    "# Compute the accuracy and confusion matrix for xgb\n",
    "xgb_acc = metrics.accuracy_score(y_test,xgb_predictions)\n",
    "print('XGBoost accuracy: ', xgb_acc)\n",
    "xgb_matrix = confusion_matrix(y_test,xgb_predictions)\n",
    "print('XGBoost confusion matrix: \\n {}'.format(xgb_matrix))"
   ]
  },
  {
   "cell_type": "code",
   "execution_count": 226,
   "metadata": {
    "colab": {
     "base_uri": "https://localhost:8080/"
    },
    "executionInfo": {
     "elapsed": 154,
     "status": "ok",
     "timestamp": 1632418721968,
     "user": {
      "displayName": "Fereydoon Vafaei",
      "photoUrl": "https://lh3.googleusercontent.com/a-/AOh14GhXJCZPNc_PChl1s-2GBld1PRrWfM-_XM1-air1=s64",
      "userId": "03595853268658568546"
     },
     "user_tz": 240
    },
    "id": "WRrWwnelvCQn",
    "outputId": "114773cd-d6ab-4109-c807-1f5a4d2b1772"
   },
   "outputs": [
    {
     "name": "stdout",
     "output_type": "stream",
     "text": [
      "XGBoost accuracy:  0.5146981466220126\n"
     ]
    }
   ],
   "source": [
    "# Compute the balanced accuracy for xgb\n",
    "xgb_bal_acc =  metrics.balanced_accuracy_score(y_test,xgb_predictions)\n",
    "print('XGBoost accuracy: ', xgb_bal_acc)"
   ]
  },
  {
   "cell_type": "code",
   "execution_count": 227,
   "metadata": {
    "colab": {
     "base_uri": "https://localhost:8080/"
    },
    "executionInfo": {
     "elapsed": 8,
     "status": "ok",
     "timestamp": 1632418721969,
     "user": {
      "displayName": "Fereydoon Vafaei",
      "photoUrl": "https://lh3.googleusercontent.com/a-/AOh14GhXJCZPNc_PChl1s-2GBld1PRrWfM-_XM1-air1=s64",
      "userId": "03595853268658568546"
     },
     "user_tz": 240
    },
    "id": "IQe4jw6KvCQn",
    "outputId": "0e8d7f63-2d89-47f1-d3dd-88c1b755bb1b"
   },
   "outputs": [
    {
     "name": "stdout",
     "output_type": "stream",
     "text": [
      "              precision    recall  f1-score   support\n",
      "\n",
      "           0       0.95      0.99      0.97      1391\n",
      "           1       0.23      0.04      0.06        82\n",
      "\n",
      "    accuracy                           0.94      1473\n",
      "   macro avg       0.59      0.51      0.52      1473\n",
      "weighted avg       0.91      0.94      0.92      1473\n",
      "\n"
     ]
    }
   ],
   "source": [
    "# Get classification_report for xgb\n",
    "print(classification_report(y_test,xgb_predictions))"
   ]
  },
  {
   "cell_type": "code",
   "execution_count": 229,
   "metadata": {
    "colab": {
     "base_uri": "https://localhost:8080/"
    },
    "executionInfo": {
     "elapsed": 7,
     "status": "ok",
     "timestamp": 1632418721969,
     "user": {
      "displayName": "Fereydoon Vafaei",
      "photoUrl": "https://lh3.googleusercontent.com/a-/AOh14GhXJCZPNc_PChl1s-2GBld1PRrWfM-_XM1-air1=s64",
      "userId": "03595853268658568546"
     },
     "user_tz": 240
    },
    "id": "qZVGQb94vCQn",
    "outputId": "204a2811-e4b0-48c6-f457-421f2d7bfab6"
   },
   "outputs": [
    {
     "name": "stdout",
     "output_type": "stream",
     "text": [
      "RF precision =  1.0\n",
      "XGBoost precision =  0.23076923076923078\n",
      "RF recall =  0.012195121951219513\n",
      "XGBoost recall =  0.036585365853658534\n"
     ]
    }
   ],
   "source": [
    "# Compute and print precision and recall scores for rf and xgb\n",
    "print('RF precision = ', precision_score(y_test,rf_predictions))\n",
    "print('XGBoost precision = ', precision_score(y_test,xgb_predictions))\n",
    "print('RF recall = ', recall_score(y_test,rf_predictions))\n",
    "print('XGBoost recall = ', recall_score(y_test,xgb_predictions))"
   ]
  },
  {
   "cell_type": "markdown",
   "metadata": {
    "id": "d1g8tlJWvCQo"
   },
   "source": [
    "### Part-II Questions"
   ]
  },
  {
   "cell_type": "markdown",
   "metadata": {
    "id": "D0xMcKNgvCQo"
   },
   "source": [
    "- **Q1** [8 points] - Check sklearn documentation for [`confusion_matrix`](https://scikit-learn.org/stable/modules/generated/sklearn.metrics.confusion_matrix.html) and specify the number of True Positives (TP), True Negatives (TN), False Positives (FP) and False Negatives (FN) for Random Forest and XGBoost classifiers."
   ]
  },
  {
   "cell_type": "code",
   "execution_count": 233,
   "metadata": {
    "colab": {
     "base_uri": "https://localhost:8080/",
     "height": 237
    },
    "executionInfo": {
     "elapsed": 161,
     "status": "error",
     "timestamp": 1632418722125,
     "user": {
      "displayName": "Fereydoon Vafaei",
      "photoUrl": "https://lh3.googleusercontent.com/a-/AOh14GhXJCZPNc_PChl1s-2GBld1PRrWfM-_XM1-air1=s64",
      "userId": "03595853268658568546"
     },
     "user_tz": 240
    },
    "id": "Zr9kUEMTvCQo",
    "outputId": "70de624e-966e-4523-d417-63bb4eb77b48"
   },
   "outputs": [
    {
     "name": "stdout",
     "output_type": "stream",
     "text": [
      "Random Forest:\n",
      "TP =  1\n",
      "TN =  1391\n",
      "FP =  0\n",
      "FN =  81\n"
     ]
    }
   ],
   "source": [
    "print('Random Forest:')\n",
    "tn, fp, fn, tp = confusion_matrix(y_test,rf_predictions).ravel()\n",
    "print('TP = ', tp)\n",
    "print('TN = ', tn)\n",
    "print('FP = ', fp)\n",
    "print('FN = ', fn)"
   ]
  },
  {
   "cell_type": "code",
   "execution_count": 242,
   "metadata": {
    "executionInfo": {
     "elapsed": 158,
     "status": "aborted",
     "timestamp": 1632418722123,
     "user": {
      "displayName": "Fereydoon Vafaei",
      "photoUrl": "https://lh3.googleusercontent.com/a-/AOh14GhXJCZPNc_PChl1s-2GBld1PRrWfM-_XM1-air1=s64",
      "userId": "03595853268658568546"
     },
     "user_tz": 240
    },
    "id": "TjFUEu7rvCQo"
   },
   "outputs": [
    {
     "name": "stdout",
     "output_type": "stream",
     "text": [
      "XGBoost:\n",
      "TP =  3\n",
      "TN =  1381\n",
      "FP =  10\n",
      "FN =  79\n"
     ]
    }
   ],
   "source": [
    "print('XGBoost:')\n",
    "tn, fp, fn, tp = confusion_matrix(y_test,xgb_predictions).ravel()\n",
    "print('TP = ', tp)\n",
    "print('TN = ', tn)\n",
    "print('FP = ', fp)\n",
    "print('FN = ', fn)"
   ]
  },
  {
   "cell_type": "markdown",
   "metadata": {
    "id": "TwKlfhddvCQp"
   },
   "source": [
    "- **Q2** [2 points] - Why don't you include `y_test` when you apply `.predict()` method on `X_test`?\n",
    "\n",
    "ANSWER:\n",
    "\n",
    "We used X_test instead of y_test when training because y_test will include the result of the X_test, and we are using the X_test to train the progam to make a prediction and compare it to the y_test to computure precision and recall. "
   ]
  },
  {
   "cell_type": "markdown",
   "metadata": {
    "id": "9y1W_NPnvCQp"
   },
   "source": [
    "- **Q3** [10 points]\n",
    "    - (a) Based on the balanced accuracy, classification report, precision and recall scores, how do you evaluate the performance of `rf` and `xgb` classifiers for this problem?(4 points)\n",
    "    \n",
    "    - (b) Is accuracy a good indicator of classifier performance for this problem? Why? (2 points)\n",
    "\n",
    "    - (c) What would you do to improve the results for this imbalanced dataset?(4 points) \n",
    "\n",
    "ANSWER: EXPLAIN COMPLETELY for (a), (b) and (c). Incomplete answers will get zero.\n",
    "\n",
    "(a) Based on the criteria mentioned above, I do not believe both rf and xgb classifiers are suited for this problem.\n",
    "Indeed, both accuracy were above 90%, but once it was balanced, accuracy decreased to 50%.  In addition, number of TP was significantly low for both classifier, while FN was high.  This numeric shows that both classifier failed to predict the stroke patient based of the feature provided.  \n",
    "\n",
    "   On the other hand, if we are comparing which classifier was performing better, then XGBoost performend better in my opinion.  RF method had lower recall than XGB.  In this test, RF method only predicted 1 TP and 0 FP.  While XGB precision was lower than RF, the end goal of the machine is to predict whether the patient will have stroke in the future. As a tool, it is better to have a lower threshold to determine if a person is a potential stroke patient so that they can be examined more in details.  \n",
    "\n",
    "\n",
    "(b) No, I think accuracy is not a good indicator.  In this problem, I believe accuracy seems to be high because of the high number of TN.  But what is striking is the low recall value on both classifier.  Both classifier failed to identify TP.  The machine should have a high recall and precision, since that what it matters to predict potential stroke patients.  If the machine fails to identify potential stroke patients, then this machine looses value as a good measure to predict.\n",
    "\n",
    "(c) I believe changing the weight of each feature will improve the result.  For example, the dataset contains feauture such as residence type, work type, and gender, which I am assuming not valuable information compared to age, bmi, glucose level, and smoking status to predict stroke.  If we can weith the latter feauture more than the former feature, I believe the performance will increase. "
   ]
  },
  {
   "cell_type": "markdown",
   "metadata": {
    "id": "3LmYRjhEvCQp"
   },
   "source": [
    "## Part-III Hyperparameter Tuning, Grid Search, and ROC Curves"
   ]
  },
  {
   "cell_type": "markdown",
   "metadata": {
    "id": "EulwRsijvCQp"
   },
   "source": [
    "Next, you're going to tune the hyperparameters of the random forest classifier to check whether it can improve the results. You should use [`GridSearchCV`](https://scikit-learn.org/stable/modules/generated/sklearn.model_selection.GridSearchCV.html) which tries different combinations of hyperparameter values to find the best values. Read the documentation to learn more. There is also an example in Chapter-2 of the textbook (page 76) that you should read. Running this part may take a while (**depending on your computer speed it may take more than an hour**).\n",
    "\n",
    "> `param_grid` argument of `GridSearchCV` is a dictionary that contains the hyperparameters and their corresponding values that you should include in your search. Other than the `param_grid`, you can use the default arguments of `GridSearchCV`. You may want to set `verbose=True` to get more info in the output.\n",
    "\n",
    "> **The minimum requirement** for this part of the assignment is that you should try the following hyperparameters, each with at least two values:\n",
    "`n_estimators, criterion, bootstrap, max_depth, max_features, min_samples_leaf, min_samples_split`"
   ]
  },
  {
   "cell_type": "code",
   "execution_count": 241,
   "metadata": {
    "id": "MMoBAREwvCQq"
   },
   "outputs": [
    {
     "name": "stdout",
     "output_type": "stream",
     "text": [
      "Fitting 5 folds for each of 288 candidates, totalling 1440 fits\n",
      "Grid search for hyperparameter tuning of random forest classifier\n",
      "Best Parameters: {'bootstrap': True, 'criterion': 'gini', 'max_depth': 5, 'max_features': 'auto', 'min_samples_leaf': 1, 'min_samples_split': 2, 'n_estimators': 50}\n"
     ]
    }
   ],
   "source": [
    "# Perform a GridSearch on rf hyperparameters [10 points]\n",
    "rf_clf = RandomForestClassifier()\n",
    "param_grid =  [{'n_estimators':[50,100],\n",
    "                'criterion':['gini','entropy'],\n",
    "                'bootstrap':[True,False],\n",
    "                'max_depth':[5,10],\n",
    "                'max_features':['auto','sqrt'],\n",
    "                'min_samples_leaf':[1,2,3],\n",
    "                'min_samples_split':[2,3,4]}]\n",
    "\n",
    "grid_search = GridSearchCV(rf_clf,param_grid,verbose=True)\n",
    "best_rf_clf = grid_search.fit(X_train,y_train)\n",
    "\n",
    "print('Grid search for hyperparameter tuning of random forest classifier')\n",
    "print('Best Parameters: ' + str(best_rf_clf.best_params_))"
   ]
  },
  {
   "cell_type": "code",
   "execution_count": 243,
   "metadata": {
    "id": "uSXhaNl7vCQq"
   },
   "outputs": [
    {
     "name": "stdout",
     "output_type": "stream",
     "text": [
      "RandomForestClassifier(max_depth=5, n_estimators=50)\n"
     ]
    }
   ],
   "source": [
    "best_rf = best_rf_clf.best_estimator_\n",
    "print(best_rf)"
   ]
  },
  {
   "cell_type": "code",
   "execution_count": 244,
   "metadata": {
    "id": "UaGN6GVovCQq"
   },
   "outputs": [],
   "source": [
    "# Train and test best_rf\n",
    "best_rf_predictions = best_rf.predict(X_test)"
   ]
  },
  {
   "cell_type": "code",
   "execution_count": 247,
   "metadata": {
    "id": "SLoSxyPpvCQr"
   },
   "outputs": [
    {
     "name": "stdout",
     "output_type": "stream",
     "text": [
      "Best RF Accuracy:  0.9443312966734555\n",
      "Best RF Balanced Accuracy:  0.5\n",
      "Best RF Precision:  0.0\n",
      "Best RF Recall:  0.0\n",
      "Best RF confusion matrix: \n",
      " [[1391    0]\n",
      " [  82    0]]\n"
     ]
    },
    {
     "name": "stderr",
     "output_type": "stream",
     "text": [
      "C:\\Users\\Mikan\\anaconda3\\lib\\site-packages\\sklearn\\metrics\\_classification.py:1245: UndefinedMetricWarning: Precision is ill-defined and being set to 0.0 due to no predicted samples. Use `zero_division` parameter to control this behavior.\n",
      "  _warn_prf(average, modifier, msg_start, len(result))\n"
     ]
    }
   ],
   "source": [
    "# Compute and print the accuracy, balanced accuracy, precision, recall and confusion matrix of best_rf\n",
    "best_rf_acc = metrics.accuracy_score(y_test,best_rf_predictions)\n",
    "best_rf_bal_acc = metrics.balanced_accuracy_score(y_test,best_rf_predictions)\n",
    "best_rf_precision = precision_score(y_test,best_rf_predictions)\n",
    "best_rf_recall = recall_score(y_test,best_rf_predictions)\n",
    "best_rf_matrix = confusion_matrix(y_test,best_rf_predictions)\n",
    "print('Best RF Accuracy: ', best_rf_acc)\n",
    "print('Best RF Balanced Accuracy: ', best_rf_bal_acc)\n",
    "print('Best RF Precision: ', best_rf_precision)\n",
    "print('Best RF Recall: ', best_rf_recall)\n",
    "print('Best RF confusion matrix: \\n {}'.format(best_rf_matrix))"
   ]
  },
  {
   "cell_type": "markdown",
   "metadata": {
    "id": "w4BRNwPkvCQr"
   },
   "source": [
    "> The following cell shows how you can prepare the required scores to plot ROC curve of random forest classifier using `fpr`, `tpr`, and `threshold` returned by [`metrics.roc_curve`](https://scikit-learn.org/stable/modules/generated/sklearn.metrics.roc_curve.html) and class probabilities using [`predict_proba()`](https://scikit-learn.org/stable/modules/generated/sklearn.ensemble.RandomForestClassifier.html#sklearn.ensemble.RandomForestClassifier.predict_proba) method of [`RandomForest`](https://scikit-learn.org/stable/modules/generated/sklearn.ensemble.RandomForestClassifier.html)."
   ]
  },
  {
   "cell_type": "code",
   "execution_count": 252,
   "metadata": {
    "id": "Km6zfZmGvCQr"
   },
   "outputs": [],
   "source": [
    "# Get class probabilities, fpr, tpr and threshold for Random Forest classifier\n",
    "rf_probs = best_rf.predict_proba(X_test)\n",
    "rf_preds = rf_probs[:,1]\n",
    "rf_fpr, rf_tpr, rf_threshold = metrics.roc_curve(y_test, rf_preds)\n",
    "rf_roc_auc = metrics.auc(rf_fpr, rf_tpr)"
   ]
  },
  {
   "cell_type": "code",
   "execution_count": 261,
   "metadata": {
    "id": "PcqdWNJPvCQr",
    "outputId": "fc2b6884-b149-43ac-c4ca-24c66f9b9988"
   },
   "outputs": [
    {
     "data": {
      "image/png": "[encoded data removed]",
      "text/plain": [
       "<Figure size 432x288 with 1 Axes>"
      ]
     },
     "metadata": {
      "needs_background": "light"
     },
     "output_type": "display_data"
    }
   ],
   "source": [
    "# Plot ROC curve for Random Forest classifier\n",
    "# Incomplete plots with no title, axis labels or legend get zero\n",
    "lw=2\n",
    "plt.plot(rf_fpr,rf_tpr,color='navy',lw=lw,label= 'AUC_RF = %0.2f' % rf_roc_auc) \n",
    "plt.plot([0, 1], [0, 1], color='red', lw=lw, linestyle='--')\n",
    "\n",
    "plt.title('ROC for Random Forest classifier')\n",
    "plt.xlabel(\"False positive Rate\")\n",
    "plt.ylabel(\"True Positive Rate\")\n",
    "plt.legend(loc=\"lower right\")\n",
    "plt.show()"
   ]
  },
  {
   "cell_type": "markdown",
   "metadata": {
    "id": "lPq5LbaNvCQr"
   },
   "source": [
    "> Next, you should plot ROC curves of BOTH classifiers in one plot. You should first get the probs, preds, fpr, tpr, and threshold for `xgb`. Your plot should be complete and match with the required specifications. A complete plot has title, axis labels and legend."
   ]
  },
  {
   "cell_type": "code",
   "execution_count": 263,
   "metadata": {
    "id": "8L7FDgvwvCQs"
   },
   "outputs": [],
   "source": [
    "# Get class probabilities, fpr, tpr and threshold for XGBoost classifier\n",
    "# Hint: It should be very similar to rf\n",
    "xgb_probs = xgb.predict_proba(X_test)\n",
    "xgb_preds = xgb_probs[:,1]\n",
    "xgb_fpr, xgb_tpr, xgb_threshold = metrics.roc_curve(y_test, xgb_preds)\n",
    "xgb_roc_auc = metrics.auc(xgb_fpr, xgb_tpr)\n"
   ]
  },
  {
   "cell_type": "code",
   "execution_count": 265,
   "metadata": {
    "id": "zLrNdzrSvCQs",
    "outputId": "d2dbff84-1ba3-47c7-b419-18fb019d2129"
   },
   "outputs": [
    {
     "data": {
      "image/png": "[encoded data removed]",
      "text/plain": [
       "<Figure size 432x288 with 1 Axes>"
      ]
     },
     "metadata": {
      "needs_background": "light"
     },
     "output_type": "display_data"
    }
   ],
   "source": [
    "''' Plot ROC for BOTH classifiers rf and xgb with different colors in one plot,\n",
    "and with AUC scores shown on the 'lower right' of the plot. [10 points]\n",
    "\n",
    "Write as many number of lines of code as needed.\n",
    "\n",
    "Hint: You may use Random Forest ROC curve as a reference for writing your code.\n",
    "\n",
    "Your plot should be complete with title, axis labels and legend.\n",
    "\n",
    "Incomplete plots get zero.\n",
    "'''\n",
    "lw=2\n",
    "plt.plot(xgb_fpr,xgb_tpr,color='mediumturquoise',lw=lw,label='AUC_XGB = %0.2f' % xgb_roc_auc)\n",
    "plt.plot(rf_fpr,rf_tpr,color='darkmagenta',lw=lw,label= 'AUC_RF = %0.2f' % rf_roc_auc) \n",
    "plt.plot([0, 1], [0, 1], color='red', lw=lw, linestyle='--')\n",
    "\n",
    "plt.title('ROC for Random Forest classifier and XGBoost classifier')\n",
    "plt.xlabel(\"False positive Rate\")\n",
    "plt.ylabel(\"True Positive Rate\")\n",
    "plt.legend(loc=\"lower right\")\n",
    "plt.show()"
   ]
  },
  {
   "cell_type": "markdown",
   "metadata": {
    "id": "ukiDJ3lovCQs"
   },
   "source": [
    "### Part-III Questions"
   ]
  },
  {
   "cell_type": "markdown",
   "metadata": {
    "id": "36kfDeoyvCQs"
   },
   "source": [
    "- **Q4** [2 points]- Check the `best_rf` performance scores and explain whether or not fine-tuning hyperparameters using `GridSearch` helped resolve the performance issues with this imablanced dataset. Explain why COMPLETELY. You must justify your answer and make arguments.\n",
    "\n",
    "ANSWER:\n",
    "No, fine-tuning hyperparameters did not improve the performance of the RF.  One explanation that can be proposed is that the dataset had irelevant features that could have skewed the predicition.  Based of recall and precision value, one can say that the dataset did not have much pattern to the point where the machine were not able to predict stroke patient based on it.  The dataset that we fed in the machine consisted of 10 features, including marriage status and resident status.  Reducing the numbe of total features will increase the weight of each, meaning glucose level and past medical history will have more weight.  Therefore, the machine could have had a better performance if the data did not have irrevent data.  \n",
    "\n",
    "\n"
   ]
  },
  {
   "cell_type": "markdown",
   "metadata": {
    "id": "w6vXHgEIvCQs"
   },
   "source": [
    "- **Q5** [2 points]- Checking the ROC curves of Random Forest and XGBoost, and without seeing AUC scores, how would you determine which classifier has a better performance? Explain.\n",
    "\n",
    "ANSWER:\n",
    "The best way to determine the better performance is to look at the curve that has higher true positive rates at the same false positive rate.  In this case, RF classifier has higher true positive rate at majority of the graph compared to the XGB classifier.  Therefore, RF classifier has a better performance. "
   ]
  },
  {
   "cell_type": "markdown",
   "metadata": {
    "id": "wT3C0Nr1vCQt"
   },
   "source": [
    "- **Q6** [2 points]- Based on the ROC curves and auc scores, can you say that these classifiers have a good performance? In other words, is ROC curve a good indicator for classifier performance for this dataset? Justify your answer with clear arguments.\n",
    "\n",
    "ANSWER: \n",
    "Yes, based on the ROC curves and auc scores, both classifier seems to be promising. But, I still do not believe that these classifiers have a good performance.  Based on the precision and recall value computed above, while RF had perfect precision, recall was lower than 5% for both.  In other words, the classifier we have trained failed to predict stroke patients based on the feauture provided.  Therefore, I ROC curve and AUC by itself is not a good indicator for classifier perfomance for this dataset.  "
   ]
  },
  {
   "cell_type": "markdown",
   "metadata": {
    "id": "XbK0w68AvCQt"
   },
   "source": [
    "## Grading\n",
    "\n",
    "Assignment-1 has a maximum of 100 points. Make sure that you get the correct outputs for all cells that you implement and give complete answers to all questions. Also, your notebook should be written with no grammatical and spelling errors and should be easy-to-read.\n",
    "\n",
    "The breakdown of the 100 points is as follows:\n",
    "\n",
    "- Part-I - Preprocessing: 30 points (pie chart has 10 points) **Note**: Incomplete pie charts get zero.\n",
    "   \n",
    "\n",
    "- Part-II - 30 points\n",
    "    - Implementation and results: 10 points\n",
    "    - Part-II Questions: 20 points\n",
    "    \n",
    "\n",
    "- Part-III - 40 points\n",
    "    - Implementation, results, and plots: 34 points **Note**: Incomplete GridSearch and/or ROC plots get zero!\n",
    "    - Part-III Questions: 6 points\n",
    "    \n",
    "\n",
    "<b>Note: </b>Follow the instructions of each section carefully. Up to 10 points may be deducted if your submitted notebook is not easy to read and follow or if it has grammatical, spelling or formatting issues.\n",
    "\n",
    "Grading will be based on: \n",
    "\n",
    "  * correct implementation,\n",
    "  * running ALL cells and correct outputs and plots, (cells with no output get ZERO for the whole part that includes the cell)\n",
    "  * correct answer to the questions,\n",
    "  * readability of the notebook."
   ]
  },
  {
   "cell_type": "markdown",
   "metadata": {
    "id": "o5fP3bzhvCQt"
   },
   "source": [
    "## Submission"
   ]
  },
  {
   "cell_type": "markdown",
   "metadata": {
    "id": "ZVwnQqtGvCQt"
   },
   "source": [
    "Name your notebook ```Lastname-A1.ipynb```. Submit the completed notebook using the ```Assignment-1``` link on Blackboard.\n",
    "  \n",
    "<font color=red><b>Due Date: Thursday Sep 30, 11:59PM.</b></font>"
   ]
  }
 ],
 "metadata": {
  "colab": {
   "name": "ML-Assignment-1-F21.ipynb",
   "provenance": []
  },
  "kernelspec": {
   "display_name": "Python 3",
   "language": "python",
   "name": "python3"
  },
  "language_info": {
   "codemirror_mode": {
    "name": "ipython",
    "version": 3
   },
   "file_extension": ".py",
   "mimetype": "text/x-python",
   "name": "python",
   "nbconvert_exporter": "python",
   "pygments_lexer": "ipython3",
   "version": "3.8.8"
  }
 },
 "nbformat": 4,
 "nbformat_minor": 1
}
